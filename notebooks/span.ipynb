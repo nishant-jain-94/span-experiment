{
 "cells": [
  {
   "cell_type": "code",
   "execution_count": 1,
   "metadata": {
    "collapsed": true
   },
   "outputs": [],
   "source": [
    "import numpy as np\n",
    "import plotly.plotly as py\n",
    "import plotly.graph_objs as go\n",
    "import matplotlib.pyplot as plt\n",
    "import gensim\n",
    "from gensim.models import word2vec\n",
    "from gensim.models import Word2Vec\n",
    "from embeddings import Embeddings\n",
    "from nltk.tokenize import word_tokenize\n",
    "from changepy import pelt\n",
    "from changepy.costs import normal_mean\n",
    "%matplotlib inline"
   ]
  },
  {
   "cell_type": "code",
   "execution_count": 2,
   "metadata": {
    "collapsed": true
   },
   "outputs": [],
   "source": [
    "# embedding = Embeddings(100, 3, 1, 4)"
   ]
  },
  {
   "cell_type": "code",
   "execution_count": 3,
   "metadata": {
    "collapsed": true
   },
   "outputs": [],
   "source": [
    "word2vec_model = gensim.models.KeyedVectors.load_word2vec_format(\"../data/GoogleNews-vectors-negative300.bin\", binary=True)"
   ]
  },
  {
   "cell_type": "code",
   "execution_count": 100,
   "metadata": {
    "collapsed": true
   },
   "outputs": [],
   "source": [
    "context = \"\"\"The sun sets in the west. The sun rises in the east. If Roman numerals were used they would have destroyed Abdul Kalam.\"\"\""
   ]
  },
  {
   "cell_type": "code",
   "execution_count": 101,
   "metadata": {
    "collapsed": true
   },
   "outputs": [],
   "source": [
    "questions = [\"Which NFL team represented the AFC at Super Bowl 50?\",\n",
    "\"Which NFL team represented the NFC at Super Bowl 50?\",\n",
    "\"Where did Super Bowl 50 take place?\",\n",
    "\"Which NFL team won Super Bowl 50?\",\n",
    "\"What color was used to emphasize the 50th anniversary of the Super Bowl?\",\n",
    "\"What was the theme of Super Bowl 50?\",\n",
    "\"What day was the game played on?\",\n",
    "\"What is the AFC short for?\",\n",
    "\"What was the theme of Super Bowl 50?\",\n",
    "\"What does AFC stand for?\",\n",
    "\"What day was the Super Bowl played on?\",\n",
    "\"Who won Super Bowl 50?\",\n",
    "\"What venue did Super Bowl 50 take place in?\",\n",
    "\"What city did Super Bowl 50 take place in?\",\n",
    "\"If Roman numerals were used, what would Super Bowl 50 have been called?\",\n",
    "\"Super Bowl 50 decided the NFL champion for what season?\",\n",
    "\"What year did the Denver Broncos secure a Super Bowl title for the third time?\",\n",
    "\"What city did Super Bowl 50 take place in?\",\n",
    "\"What stadium did Super Bowl 50 take place in?\",\n",
    "\"What was the final score of Super Bowl 50?\",\n",
    "\"What month, day and year did Super Bowl 50 take place?\",\n",
    "\"What year was Super Bowl 50?\",\n",
    "\"What team was the AFC champion?\",\n",
    "\"What team was the NFC champion?\",\n",
    "\"Who won Super Bowl 50?\",\n",
    "\"Super Bowl 50 determined the NFL champion for what season?\",\n",
    "\"Which team won Super Bowl 50.\",\n",
    "\"Where was Super Bowl 50 held?\",\n",
    "\"The name of the NFL championship game is?\",\n",
    "\"What 2015 NFL team one the AFC playoff?\"]"
   ]
  },
  {
   "cell_type": "code",
   "execution_count": 102,
   "metadata": {
    "collapsed": true
   },
   "outputs": [],
   "source": [
    "question = \"Where does the sun rise\""
   ]
  },
  {
   "cell_type": "code",
   "execution_count": 103,
   "metadata": {
    "collapsed": true
   },
   "outputs": [],
   "source": [
    "tokenized_context = [word for word in word_tokenize(context.lower()) if word in word2vec_model.vocab]\n",
    "tokenized_question = [word for word in word_tokenize(question.lower()) if word in word2vec_model.vocab]"
   ]
  },
  {
   "cell_type": "code",
   "execution_count": 104,
   "metadata": {},
   "outputs": [
    {
     "data": {
      "text/plain": [
       "23"
      ]
     },
     "execution_count": 104,
     "metadata": {},
     "output_type": "execute_result"
    }
   ],
   "source": [
    "len(tokenized_context)"
   ]
  },
  {
   "cell_type": "code",
   "execution_count": 105,
   "metadata": {},
   "outputs": [
    {
     "data": {
      "text/plain": [
       "5"
      ]
     },
     "execution_count": 105,
     "metadata": {},
     "output_type": "execute_result"
    }
   ],
   "source": [
    "len(tokenized_question)"
   ]
  },
  {
   "cell_type": "code",
   "execution_count": 106,
   "metadata": {
    "collapsed": true
   },
   "outputs": [],
   "source": [
    "question_context_similarity = np.zeros((len(tokenized_question), len(tokenized_context)))"
   ]
  },
  {
   "cell_type": "code",
   "execution_count": 107,
   "metadata": {
    "collapsed": true
   },
   "outputs": [],
   "source": [
    "for context_index, context_word in enumerate(tokenized_context):\n",
    "    for question_index, question_word in enumerate(tokenized_question):\n",
    "        question_context_similarity[question_index][context_index] = word2vec_model.similarity(question_word, context_word)"
   ]
  },
  {
   "cell_type": "code",
   "execution_count": 108,
   "metadata": {},
   "outputs": [
    {
     "data": {
      "text/plain": [
       "array([[ 0.33894969,  0.14939619,  0.03897604,  0.56624353,  0.33894969,\n",
       "         0.35721807,  0.33894969,  0.14939619,  0.07876396,  0.56624353,\n",
       "         0.33894969,  0.35421662,  0.4568369 ,  0.05862254, -0.01209078,\n",
       "         0.13866396,  0.17126685,  0.38241488,  0.19520967,  0.32818559,\n",
       "         0.13606084, -0.08291342,  0.01398347],\n",
       "       [ 0.22534474,  0.06303354,  0.17775049,  0.09361951,  0.22534474,\n",
       "        -0.00604059,  0.22534474,  0.06303354,  0.2191661 ,  0.09361951,\n",
       "         0.22534474,  0.00263982,  0.40305528,  0.02579775,  0.04759801,\n",
       "        -0.07671561,  0.23233675,  0.24820227,  0.54530906,  0.06643999,\n",
       "         0.00968716,  0.05682599, -0.00587688],\n",
       "       [ 1.        ,  0.12125856,  0.22441499,  0.54292963,  1.        ,\n",
       "         0.19303074,  1.        ,  0.12125856,  0.18032652,  0.54292963,\n",
       "         1.        ,  0.18160978,  0.27620077,  0.08889061,  0.06054101,\n",
       "         0.2811602 ,  0.19996042,  0.40384981,  0.337817  ,  0.34144443,\n",
       "         0.1058423 , -0.09697241, -0.02923529],\n",
       "       [ 0.12125856,  1.        ,  0.0845114 ,  0.07584752,  0.12125856,\n",
       "         0.19750955,  0.12125856,  1.        ,  0.16744898,  0.07584752,\n",
       "         0.12125856,  0.18648315,  0.08170289,  0.032291  ,  0.15769284,\n",
       "         0.01375875,  0.01412729,  0.12323325, -0.01977973,  0.01306381,\n",
       "         0.07661866,  0.01330092,  0.14266437],\n",
       "       [ 0.15696974,  0.05859934,  0.02747003,  0.16100358,  0.15696974,\n",
       "         0.10363852,  0.15696974,  0.05859934,  0.72460111,  0.16100358,\n",
       "         0.15696974,  0.10533926,  0.10988991,  0.01761379,  0.06772115,\n",
       "         0.12167421,  0.03327112,  0.13946204,  0.09853371,  0.12552456,\n",
       "         0.08969066, -0.05361735,  0.03282575]])"
      ]
     },
     "execution_count": 108,
     "metadata": {},
     "output_type": "execute_result"
    }
   ],
   "source": [
    "question_context_similarity"
   ]
  },
  {
   "cell_type": "code",
   "execution_count": 109,
   "metadata": {},
   "outputs": [],
   "source": [
    "row_wise_sum = np.sum(question_context_similarity, axis=1)"
   ]
  },
  {
   "cell_type": "code",
   "execution_count": 110,
   "metadata": {},
   "outputs": [],
   "source": [
    "normalised_question_context_matrix = np.array([question_context_similarity[index] / row_wise_sum[index]  for index in range(question_context_similarity.shape[0])])"
   ]
  },
  {
   "cell_type": "code",
   "execution_count": null,
   "metadata": {
    "collapsed": true
   },
   "outputs": [],
   "source": []
  },
  {
   "cell_type": "code",
   "execution_count": 111,
   "metadata": {},
   "outputs": [
    {
     "data": {
      "text/html": [
       "<iframe id=\"igraph\" scrolling=\"no\" style=\"border:none;\" seamless=\"seamless\" src=\"https://plot.ly/~nishantjain94/138.embed\" height=\"525px\" width=\"100%\"></iframe>"
      ],
      "text/plain": [
       "<plotly.tools.PlotlyDisplay object>"
      ]
     },
     "execution_count": 111,
     "metadata": {},
     "output_type": "execute_result"
    }
   ],
   "source": [
    "trace = go.Heatmap(z=normalised_question_context_matrix, x=tokenized_context, y=tokenized_question)\n",
    "data = [trace]\n",
    "py.iplot(data)"
   ]
  },
  {
   "cell_type": "code",
   "execution_count": 112,
   "metadata": {},
   "outputs": [
    {
     "data": {
      "text/plain": [
       "['the',\n",
       " 'sun',\n",
       " 'sets',\n",
       " 'in',\n",
       " 'the',\n",
       " 'west',\n",
       " 'the',\n",
       " 'sun',\n",
       " 'rises',\n",
       " 'in',\n",
       " 'the',\n",
       " 'east',\n",
       " 'if',\n",
       " 'roman',\n",
       " 'numerals',\n",
       " 'were',\n",
       " 'used',\n",
       " 'they',\n",
       " 'would',\n",
       " 'have',\n",
       " 'destroyed',\n",
       " 'abdul',\n",
       " 'kalam']"
      ]
     },
     "execution_count": 112,
     "metadata": {},
     "output_type": "execute_result"
    }
   ],
   "source": [
    "tokenized_context"
   ]
  },
  {
   "cell_type": "code",
   "execution_count": 113,
   "metadata": {
    "collapsed": true
   },
   "outputs": [],
   "source": [
    "predicted_signal_using_max = np.max(normalised_question_context_matrix, axis=0)"
   ]
  },
  {
   "cell_type": "code",
   "execution_count": 114,
   "metadata": {
    "collapsed": true
   },
   "outputs": [],
   "source": [
    "predicted_signal_using_median = np.sum(normalised_question_context_matrix, axis=0)"
   ]
  },
  {
   "cell_type": "code",
   "execution_count": 115,
   "metadata": {},
   "outputs": [
    {
     "data": {
      "text/plain": [
       "([<matplotlib.axis.XTick at 0x7f40ec5e5278>,\n",
       "  <matplotlib.axis.XTick at 0x7f40ec494e80>,\n",
       "  <matplotlib.axis.XTick at 0x7f40ec4a04a8>,\n",
       "  <matplotlib.axis.XTick at 0x7f40ec44f978>,\n",
       "  <matplotlib.axis.XTick at 0x7f40ec452390>,\n",
       "  <matplotlib.axis.XTick at 0x7f40ec452d68>,\n",
       "  <matplotlib.axis.XTick at 0x7f40ec454780>,\n",
       "  <matplotlib.axis.XTick at 0x7f40ec459198>,\n",
       "  <matplotlib.axis.XTick at 0x7f40ec459b70>,\n",
       "  <matplotlib.axis.XTick at 0x7f40ec45a588>,\n",
       "  <matplotlib.axis.XTick at 0x7f40ec45af60>,\n",
       "  <matplotlib.axis.XTick at 0x7f40ec4a72e8>,\n",
       "  <matplotlib.axis.XTick at 0x7f40ec49c048>,\n",
       "  <matplotlib.axis.XTick at 0x7f40ec62ff98>,\n",
       "  <matplotlib.axis.XTick at 0x7f40ec4a3390>,\n",
       "  <matplotlib.axis.XTick at 0x7f40ec4a36d8>,\n",
       "  <matplotlib.axis.XTick at 0x7f40ec4a0a90>,\n",
       "  <matplotlib.axis.XTick at 0x7f40ec499c50>,\n",
       "  <matplotlib.axis.XTick at 0x7f40ec49f5f8>,\n",
       "  <matplotlib.axis.XTick at 0x7f40ec49db00>,\n",
       "  <matplotlib.axis.XTick at 0x7f40ec49a550>,\n",
       "  <matplotlib.axis.XTick at 0x7f40ec45d860>,\n",
       "  <matplotlib.axis.XTick at 0x7f40ec4660b8>],\n",
       " <a list of 23 Text xticklabel objects>)"
      ]
     },
     "execution_count": 115,
     "metadata": {},
     "output_type": "execute_result"
    },
    {
     "data": {
      "image/png": "[encoded data removed]",
      "text/plain": [
       "<matplotlib.figure.Figure at 0x7f40ec491208>"
      ]
     },
     "metadata": {},
     "output_type": "display_data"
    }
   ],
   "source": [
    "plt.plot(predicted_signal_using_max)\n",
    "plt.xticks(np.arange(len(tokenized_context)),tokenized_context)"
   ]
  },
  {
   "cell_type": "code",
   "execution_count": 116,
   "metadata": {},
   "outputs": [
    {
     "data": {
      "text/html": [
       "<iframe id=\"igraph\" scrolling=\"no\" style=\"border:none;\" seamless=\"seamless\" src=\"https://plot.ly/~nishantjain94/140.embed\" height=\"525px\" width=\"100%\"></iframe>"
      ],
      "text/plain": [
       "<plotly.tools.PlotlyDisplay object>"
      ]
     },
     "execution_count": 116,
     "metadata": {},
     "output_type": "execute_result"
    }
   ],
   "source": [
    "trace = go.Heatmap(\n",
    "    z=[predicted_signal_using_max],\n",
    "    x=tokenized_context\n",
    ")\n",
    "data = [trace]\n",
    "py.iplot(data)"
   ]
  },
  {
   "cell_type": "code",
   "execution_count": 117,
   "metadata": {},
   "outputs": [
    {
     "data": {
      "text/html": [
       "<iframe id=\"igraph\" scrolling=\"no\" style=\"border:none;\" seamless=\"seamless\" src=\"https://plot.ly/~nishantjain94/142.embed\" height=\"525px\" width=\"100%\"></iframe>"
      ],
      "text/plain": [
       "<plotly.tools.PlotlyDisplay object>"
      ]
     },
     "execution_count": 117,
     "metadata": {},
     "output_type": "execute_result"
    }
   ],
   "source": [
    "trace = go.Heatmap(\n",
    "    z=[predicted_signal_using_median],\n",
    "    x=tokenized_context\n",
    ")\n",
    "data = [trace]\n",
    "py.iplot(data)"
   ]
  },
  {
   "cell_type": "code",
   "execution_count": 118,
   "metadata": {},
   "outputs": [
    {
     "data": {
      "text/plain": [
       "[0, 21]"
      ]
     },
     "execution_count": 118,
     "metadata": {},
     "output_type": "execute_result"
    }
   ],
   "source": [
    "pelt(normal_mean(predicted_signal_using_median, np.var(predicted_signal_using_median)), len(predicted_signal_using_median))"
   ]
  },
  {
   "cell_type": "code",
   "execution_count": 119,
   "metadata": {},
   "outputs": [
    {
     "name": "stderr",
     "output_type": "stream",
     "text": [
      "/home/nishant/venvs/autofill/lib/python3.5/site-packages/numpy/core/fromnumeric.py:2889: RuntimeWarning:\n",
      "\n",
      "Mean of empty slice.\n",
      "\n",
      "/home/nishant/venvs/autofill/lib/python3.5/site-packages/numpy/core/_methods.py:80: RuntimeWarning:\n",
      "\n",
      "invalid value encountered in double_scalars\n",
      "\n"
     ]
    },
    {
     "data": {
      "text/plain": [
       "nan"
      ]
     },
     "execution_count": 119,
     "metadata": {},
     "output_type": "execute_result"
    }
   ],
   "source": [
    "np.mean(predicted_signal_using_median[82:])"
   ]
  },
  {
   "cell_type": "code",
   "execution_count": 120,
   "metadata": {},
   "outputs": [
    {
     "data": {
      "text/plain": [
       "['the', 'sun', 'sets', 'in', 'the', 'west', 'the']"
      ]
     },
     "execution_count": 120,
     "metadata": {},
     "output_type": "execute_result"
    }
   ],
   "source": [
    "tokenized_context[:7]"
   ]
  },
  {
   "cell_type": "code",
   "execution_count": null,
   "metadata": {
    "collapsed": true
   },
   "outputs": [],
   "source": []
  }
 ],
 "metadata": {
  "kernelspec": {
   "display_name": "Python 3",
   "language": "python",
   "name": "python3"
  },
  "language_info": {
   "codemirror_mode": {
    "name": "ipython",
    "version": 3
   },
   "file_extension": ".py",
   "mimetype": "text/x-python",
   "name": "python",
   "nbconvert_exporter": "python",
   "pygments_lexer": "ipython3",
   "version": "3.5.2"
  }
 },
 "nbformat": 4,
 "nbformat_minor": 2
}
