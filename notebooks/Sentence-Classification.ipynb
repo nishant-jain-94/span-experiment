{
 "cells": [
  {
   "cell_type": "code",
   "execution_count": 1,
   "metadata": {},
   "outputs": [
    {
     "name": "stderr",
     "output_type": "stream",
     "text": [
      "Using TensorFlow backend.\n"
     ]
    }
   ],
   "source": [
    "import numpy as np\n",
    "from keras.models import Sequential\n",
    "from keras.layers import Dense, LSTM\n",
    "from keras.layers.wrappers import Bidirectional\n",
    "from embeddings import Embeddings\n",
    "from nltk.tokenize import sent_tokenize, word_tokenize"
   ]
  },
  {
   "cell_type": "code",
   "execution_count": 2,
   "metadata": {
    "collapsed": true
   },
   "outputs": [],
   "source": [
    "embedding = Embeddings(100, 3, 1, 4)"
   ]
  },
  {
   "cell_type": "code",
   "execution_count": 3,
   "metadata": {
    "collapsed": true
   },
   "outputs": [],
   "source": [
    "word2vec_model = embedding.get_model()"
   ]
  },
  {
   "cell_type": "code",
   "execution_count": 4,
   "metadata": {
    "collapsed": true
   },
   "outputs": [],
   "source": [
    "context = \"\"\"Tesla gained experience in telephony and electrical engineering before emigrating to the United States in 1884 to work for Thomas Edison in New York City.\n",
    "He soon struck out on his own with financial backers, setting up laboratories and companies to develop a range of electrical devices.\n",
    "His patented AC induction motor and transformer were licensed by George Westinghouse, who also hired Tesla for a short time as a consultant.\n",
    "His work in the formative years of electric power development was involved in a corporate alternating current/direct current \"War of Currents\" as well as various patent battles.\n",
    "\"\"\""
   ]
  },
  {
   "cell_type": "code",
   "execution_count": 5,
   "metadata": {
    "collapsed": true
   },
   "outputs": [],
   "source": [
    "question = \"In what year did Nikola Tesla emigrate to the United States?\""
   ]
  },
  {
   "cell_type": "code",
   "execution_count": 6,
   "metadata": {},
   "outputs": [],
   "source": [
    "tokenized_sent = [word_tokenize(sent) for sent in sent_tokenize(context)]"
   ]
  },
  {
   "cell_type": "code",
   "execution_count": 7,
   "metadata": {
    "collapsed": true
   },
   "outputs": [],
   "source": [
    "def get_average_sentence_vector(sentence):\n",
    "    avg_sent_vec = np.zeros((100))\n",
    "    count = 0\n",
    "    for word in sent:\n",
    "        if word in word2vec_model.wv.vocab:\n",
    "            avg_sent_vec += word2vec_model[word]\n",
    "            count+=1\n",
    "    avg_sent_vec = np.divide(avg_sent_vec, count)\n",
    "    return avg_sent_vec"
   ]
  },
  {
   "cell_type": "code",
   "execution_count": 8,
   "metadata": {},
   "outputs": [],
   "source": [
    "avg_sentences = []\n",
    "for sent in tokenized_sent:\n",
    "    avg_sentences.append(get_average_sentence_vector(sent))"
   ]
  },
  {
   "cell_type": "code",
   "execution_count": 9,
   "metadata": {},
   "outputs": [],
   "source": [
    "avg_sentences = np.array(avg_sentences)"
   ]
  },
  {
   "cell_type": "code",
   "execution_count": 10,
   "metadata": {},
   "outputs": [],
   "source": [
    "avg_question_vec = get_average_sentence_vector(question)"
   ]
  },
  {
   "cell_type": "code",
   "execution_count": 11,
   "metadata": {
    "collapsed": true
   },
   "outputs": [],
   "source": [
    "from itertools import product"
   ]
  },
  {
   "cell_type": "code",
   "execution_count": 12,
   "metadata": {},
   "outputs": [
    {
     "data": {
      "text/plain": [
       "4"
      ]
     },
     "execution_count": 12,
     "metadata": {},
     "output_type": "execute_result"
    }
   ],
   "source": [
    "len(avg_sentences)"
   ]
  },
  {
   "cell_type": "code",
   "execution_count": 47,
   "metadata": {},
   "outputs": [],
   "source": [
    "x = np.array(list(product(avg_sentences, [avg_question_vec])))\n",
    "y = np.array([1, 0, 0, 0])"
   ]
  },
  {
   "cell_type": "code",
   "execution_count": 48,
   "metadata": {},
   "outputs": [
    {
     "data": {
      "text/plain": [
       "(4,)"
      ]
     },
     "execution_count": 48,
     "metadata": {},
     "output_type": "execute_result"
    }
   ],
   "source": [
    "y.shape"
   ]
  },
  {
   "cell_type": "code",
   "execution_count": 49,
   "metadata": {},
   "outputs": [],
   "source": [
    "x = x.reshape((4, 200))"
   ]
  },
  {
   "cell_type": "code",
   "execution_count": 50,
   "metadata": {},
   "outputs": [
    {
     "name": "stdout",
     "output_type": "stream",
     "text": [
      "Epoch 1/100\n",
      "4/4 [==============================] - 0s - loss: 11.9568 - acc: 0.2500\n",
      "Epoch 2/100\n",
      "4/4 [==============================] - 0s - loss: 11.9568 - acc: 0.2500\n",
      "Epoch 3/100\n",
      "4/4 [==============================] - 0s - loss: 11.9568 - acc: 0.2500\n",
      "Epoch 4/100\n",
      "4/4 [==============================] - 0s - loss: 11.9568 - acc: 0.2500\n",
      "Epoch 5/100\n",
      "4/4 [==============================] - 0s - loss: 11.9568 - acc: 0.2500\n",
      "Epoch 6/100\n",
      "4/4 [==============================] - 0s - loss: 11.9568 - acc: 0.2500\n",
      "Epoch 7/100\n",
      "4/4 [==============================] - 0s - loss: 11.9568 - acc: 0.2500\n",
      "Epoch 8/100\n",
      "4/4 [==============================] - 0s - loss: 11.9568 - acc: 0.2500\n",
      "Epoch 9/100\n",
      "4/4 [==============================] - 0s - loss: 11.9568 - acc: 0.2500\n",
      "Epoch 10/100\n",
      "4/4 [==============================] - 0s - loss: 11.9568 - acc: 0.2500\n",
      "Epoch 11/100\n",
      "4/4 [==============================] - 0s - loss: 11.9568 - acc: 0.2500\n",
      "Epoch 12/100\n",
      "4/4 [==============================] - 0s - loss: 11.9568 - acc: 0.2500\n",
      "Epoch 13/100\n",
      "4/4 [==============================] - 0s - loss: 11.9568 - acc: 0.2500\n",
      "Epoch 14/100\n",
      "4/4 [==============================] - 0s - loss: 11.9568 - acc: 0.2500\n",
      "Epoch 15/100\n",
      "4/4 [==============================] - 0s - loss: 11.9568 - acc: 0.2500\n",
      "Epoch 16/100\n",
      "4/4 [==============================] - 0s - loss: 11.9568 - acc: 0.2500\n",
      "Epoch 17/100\n",
      "4/4 [==============================] - 0s - loss: 11.9568 - acc: 0.2500\n",
      "Epoch 18/100\n",
      "4/4 [==============================] - 0s - loss: 11.9568 - acc: 0.2500\n",
      "Epoch 19/100\n",
      "4/4 [==============================] - 0s - loss: 11.9568 - acc: 0.2500\n",
      "Epoch 20/100\n",
      "4/4 [==============================] - 0s - loss: 11.9568 - acc: 0.2500\n",
      "Epoch 21/100\n",
      "4/4 [==============================] - 0s - loss: 11.9568 - acc: 0.2500\n",
      "Epoch 22/100\n",
      "4/4 [==============================] - 0s - loss: 11.9568 - acc: 0.2500\n",
      "Epoch 23/100\n",
      "4/4 [==============================] - 0s - loss: 11.9568 - acc: 0.2500\n",
      "Epoch 24/100\n",
      "4/4 [==============================] - 0s - loss: 11.9568 - acc: 0.2500\n",
      "Epoch 25/100\n",
      "4/4 [==============================] - 0s - loss: 11.9568 - acc: 0.2500\n",
      "Epoch 26/100\n",
      "4/4 [==============================] - 0s - loss: 11.9568 - acc: 0.2500\n",
      "Epoch 27/100\n",
      "4/4 [==============================] - 0s - loss: 11.9568 - acc: 0.2500\n",
      "Epoch 28/100\n",
      "4/4 [==============================] - 0s - loss: 11.9568 - acc: 0.2500\n",
      "Epoch 29/100\n",
      "4/4 [==============================] - 0s - loss: 11.9568 - acc: 0.2500\n",
      "Epoch 30/100\n",
      "4/4 [==============================] - 0s - loss: 11.9568 - acc: 0.2500\n",
      "Epoch 31/100\n",
      "4/4 [==============================] - 0s - loss: 11.9568 - acc: 0.2500\n",
      "Epoch 32/100\n",
      "4/4 [==============================] - 0s - loss: 11.9568 - acc: 0.2500\n",
      "Epoch 33/100\n",
      "4/4 [==============================] - 0s - loss: 11.9568 - acc: 0.2500\n",
      "Epoch 34/100\n",
      "4/4 [==============================] - 0s - loss: 11.9568 - acc: 0.2500\n",
      "Epoch 35/100\n",
      "4/4 [==============================] - 0s - loss: 11.9568 - acc: 0.2500\n",
      "Epoch 36/100\n",
      "4/4 [==============================] - 0s - loss: 11.9568 - acc: 0.2500\n",
      "Epoch 37/100\n",
      "4/4 [==============================] - 0s - loss: 11.9568 - acc: 0.2500\n",
      "Epoch 38/100\n",
      "4/4 [==============================] - 0s - loss: 11.9568 - acc: 0.2500\n",
      "Epoch 39/100\n",
      "4/4 [==============================] - 0s - loss: 11.9568 - acc: 0.2500\n",
      "Epoch 40/100\n",
      "4/4 [==============================] - 0s - loss: 11.9568 - acc: 0.2500\n",
      "Epoch 41/100\n",
      "4/4 [==============================] - 0s - loss: 11.9568 - acc: 0.2500\n",
      "Epoch 42/100\n",
      "4/4 [==============================] - 0s - loss: 11.9568 - acc: 0.2500\n",
      "Epoch 43/100\n",
      "4/4 [==============================] - 0s - loss: 11.9568 - acc: 0.2500\n",
      "Epoch 44/100\n",
      "4/4 [==============================] - 0s - loss: 11.9568 - acc: 0.2500\n",
      "Epoch 45/100\n",
      "4/4 [==============================] - 0s - loss: 11.9568 - acc: 0.2500\n",
      "Epoch 46/100\n",
      "4/4 [==============================] - 0s - loss: 11.9568 - acc: 0.2500\n",
      "Epoch 47/100\n",
      "4/4 [==============================] - 0s - loss: 11.9568 - acc: 0.2500\n",
      "Epoch 48/100\n",
      "4/4 [==============================] - 0s - loss: 11.9568 - acc: 0.2500\n",
      "Epoch 49/100\n",
      "4/4 [==============================] - 0s - loss: 11.9568 - acc: 0.2500\n",
      "Epoch 50/100\n",
      "4/4 [==============================] - 0s - loss: 11.9568 - acc: 0.2500\n",
      "Epoch 51/100\n",
      "4/4 [==============================] - 0s - loss: 11.9568 - acc: 0.2500\n",
      "Epoch 52/100\n",
      "4/4 [==============================] - 0s - loss: 11.9568 - acc: 0.2500\n",
      "Epoch 53/100\n",
      "4/4 [==============================] - 0s - loss: 11.9568 - acc: 0.2500\n",
      "Epoch 54/100\n",
      "4/4 [==============================] - 0s - loss: 11.9568 - acc: 0.2500\n",
      "Epoch 55/100\n",
      "4/4 [==============================] - 0s - loss: 11.9568 - acc: 0.2500\n",
      "Epoch 56/100\n",
      "4/4 [==============================] - 0s - loss: 11.9568 - acc: 0.2500\n",
      "Epoch 57/100\n",
      "4/4 [==============================] - 0s - loss: 11.9568 - acc: 0.2500\n",
      "Epoch 58/100\n",
      "4/4 [==============================] - 0s - loss: 11.9568 - acc: 0.2500\n",
      "Epoch 59/100\n",
      "4/4 [==============================] - 0s - loss: 11.9568 - acc: 0.2500\n",
      "Epoch 60/100\n",
      "4/4 [==============================] - 0s - loss: 11.9568 - acc: 0.2500\n",
      "Epoch 61/100\n",
      "4/4 [==============================] - 0s - loss: 11.9568 - acc: 0.2500\n",
      "Epoch 62/100\n",
      "4/4 [==============================] - 0s - loss: 11.9568 - acc: 0.2500\n",
      "Epoch 63/100\n",
      "4/4 [==============================] - 0s - loss: 11.9568 - acc: 0.2500\n",
      "Epoch 64/100\n",
      "4/4 [==============================] - 0s - loss: 11.9568 - acc: 0.2500\n",
      "Epoch 65/100\n",
      "4/4 [==============================] - 0s - loss: 11.9568 - acc: 0.2500\n",
      "Epoch 66/100\n",
      "4/4 [==============================] - 0s - loss: 11.9568 - acc: 0.2500\n",
      "Epoch 67/100\n",
      "4/4 [==============================] - 0s - loss: 11.9568 - acc: 0.2500\n",
      "Epoch 68/100\n",
      "4/4 [==============================] - 0s - loss: 11.9568 - acc: 0.2500\n",
      "Epoch 69/100\n",
      "4/4 [==============================] - 0s - loss: 11.9568 - acc: 0.2500\n",
      "Epoch 70/100\n",
      "4/4 [==============================] - 0s - loss: 11.9568 - acc: 0.2500\n",
      "Epoch 71/100\n",
      "4/4 [==============================] - 0s - loss: 11.9568 - acc: 0.2500\n",
      "Epoch 72/100\n",
      "4/4 [==============================] - 0s - loss: 11.9568 - acc: 0.2500\n",
      "Epoch 73/100\n",
      "4/4 [==============================] - 0s - loss: 11.9568 - acc: 0.2500\n",
      "Epoch 74/100\n",
      "4/4 [==============================] - 0s - loss: 11.9568 - acc: 0.2500\n",
      "Epoch 75/100\n",
      "4/4 [==============================] - 0s - loss: 11.9568 - acc: 0.2500\n",
      "Epoch 76/100\n",
      "4/4 [==============================] - 0s - loss: 11.9568 - acc: 0.2500\n",
      "Epoch 77/100\n",
      "4/4 [==============================] - 0s - loss: 11.9568 - acc: 0.2500\n",
      "Epoch 78/100\n",
      "4/4 [==============================] - 0s - loss: 11.9568 - acc: 0.2500\n",
      "Epoch 79/100\n",
      "4/4 [==============================] - 0s - loss: 11.9568 - acc: 0.2500\n",
      "Epoch 80/100\n",
      "4/4 [==============================] - 0s - loss: 11.9568 - acc: 0.2500\n",
      "Epoch 81/100\n",
      "4/4 [==============================] - 0s - loss: 11.9568 - acc: 0.2500\n",
      "Epoch 82/100\n",
      "4/4 [==============================] - 0s - loss: 11.9568 - acc: 0.2500\n",
      "Epoch 83/100\n",
      "4/4 [==============================] - 0s - loss: 11.9568 - acc: 0.2500\n",
      "Epoch 84/100\n",
      "4/4 [==============================] - 0s - loss: 11.9568 - acc: 0.2500\n",
      "Epoch 85/100\n",
      "4/4 [==============================] - 0s - loss: 11.9568 - acc: 0.2500\n",
      "Epoch 86/100\n",
      "4/4 [==============================] - 0s - loss: 11.9568 - acc: 0.2500\n",
      "Epoch 87/100\n",
      "4/4 [==============================] - 0s - loss: 11.9568 - acc: 0.2500\n",
      "Epoch 88/100\n",
      "4/4 [==============================] - 0s - loss: 11.9568 - acc: 0.2500\n",
      "Epoch 89/100\n",
      "4/4 [==============================] - 0s - loss: 11.9568 - acc: 0.2500\n",
      "Epoch 90/100\n",
      "4/4 [==============================] - 0s - loss: 11.9568 - acc: 0.2500\n",
      "Epoch 91/100\n",
      "4/4 [==============================] - 0s - loss: 11.9568 - acc: 0.2500\n",
      "Epoch 92/100\n",
      "4/4 [==============================] - 0s - loss: 11.9568 - acc: 0.2500\n",
      "Epoch 93/100\n",
      "4/4 [==============================] - 0s - loss: 11.9568 - acc: 0.2500\n",
      "Epoch 94/100\n",
      "4/4 [==============================] - 0s - loss: 11.9568 - acc: 0.2500\n",
      "Epoch 95/100\n",
      "4/4 [==============================] - 0s - loss: 11.9568 - acc: 0.2500\n",
      "Epoch 96/100\n",
      "4/4 [==============================] - 0s - loss: 11.9568 - acc: 0.2500\n",
      "Epoch 97/100\n"
     ]
    },
    {
     "name": "stdout",
     "output_type": "stream",
     "text": [
      "4/4 [==============================] - 0s - loss: 11.9568 - acc: 0.2500\n",
      "Epoch 98/100\n",
      "4/4 [==============================] - 0s - loss: 11.9568 - acc: 0.2500\n",
      "Epoch 99/100\n",
      "4/4 [==============================] - 0s - loss: 11.9568 - acc: 0.2500\n",
      "Epoch 100/100\n",
      "4/4 [==============================] - 0s - loss: 11.9568 - acc: 0.2500\n"
     ]
    },
    {
     "data": {
      "text/plain": [
       "<keras.callbacks.History at 0x7f75c7667f60>"
      ]
     },
     "execution_count": 50,
     "metadata": {},
     "output_type": "execute_result"
    }
   ],
   "source": [
    "model = Sequential()\n",
    "model.add(Dense(100, input_shape=(200,)))\n",
    "model.add(Dense(1, activation=\"softmax\"))\n",
    "model.compile(loss=\"binary_crossentropy\", optimizer=\"adam\", metrics=[\"accuracy\"])\n",
    "model.fit(x, y, epochs=100)"
   ]
  },
  {
   "cell_type": "code",
   "execution_count": 52,
   "metadata": {},
   "outputs": [
    {
     "data": {
      "text/plain": [
       "array([[ 1.]], dtype=float32)"
      ]
     },
     "execution_count": 52,
     "metadata": {},
     "output_type": "execute_result"
    }
   ],
   "source": [
    "model.predict(np.array([x[2]]))"
   ]
  },
  {
   "cell_type": "code",
   "execution_count": null,
   "metadata": {
    "collapsed": true
   },
   "outputs": [],
   "source": []
  }
 ],
 "metadata": {
  "kernelspec": {
   "display_name": "Python 3",
   "language": "python",
   "name": "python3"
  },
  "language_info": {
   "codemirror_mode": {
    "name": "ipython",
    "version": 3
   },
   "file_extension": ".py",
   "mimetype": "text/x-python",
   "name": "python",
   "nbconvert_exporter": "python",
   "pygments_lexer": "ipython3",
   "version": "3.5.2"
  }
 },
 "nbformat": 4,
 "nbformat_minor": 2
}
