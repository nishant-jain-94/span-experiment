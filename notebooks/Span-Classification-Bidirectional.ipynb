{
 "cells": [
  {
   "cell_type": "code",
   "execution_count": 1,
   "metadata": {},
   "outputs": [
    {
     "name": "stderr",
     "output_type": "stream",
     "text": [
      "Using TensorFlow backend.\n"
     ]
    }
   ],
   "source": [
    "import numpy as np\n",
    "from keras.models import Sequential\n",
    "from keras.layers import Dense, LSTM\n",
    "from keras.layers import RepeatVector\n",
    "from keras.layers.wrappers import Bidirectional\n",
    "from embeddings import Embeddings\n",
    "from nltk.tokenize import sent_tokenize, word_tokenize\n",
    "from keras.preprocessing import sequence"
   ]
  },
  {
   "cell_type": "code",
   "execution_count": 2,
   "metadata": {
    "collapsed": true
   },
   "outputs": [],
   "source": [
    "embedding = Embeddings(100, 3, 1, 4)"
   ]
  },
  {
   "cell_type": "code",
   "execution_count": 3,
   "metadata": {
    "collapsed": true
   },
   "outputs": [],
   "source": [
    "word2vec_model = embedding.get_model()\n",
    "vocab = embedding.get_vocabulary()"
   ]
  },
  {
   "cell_type": "code",
   "execution_count": 4,
   "metadata": {
    "collapsed": true
   },
   "outputs": [],
   "source": [
    "word2index = vocab[0]"
   ]
  },
  {
   "cell_type": "code",
   "execution_count": 5,
   "metadata": {
    "collapsed": true
   },
   "outputs": [],
   "source": [
    "contexts = [\"\"\"Tesla gained experience in telephony and electrical engineering before emigrating to the United States in 1884 to work for Thomas Edison in New York City.\n",
    "He soon struck out on his own with financial backers, setting up laboratories and companies to develop a range of electrical devices.\n",
    "His patented AC induction motor and transformer were licensed by George Westinghouse, who also hired Tesla for a short time as a consultant.\n",
    "His work in the formative years of electric power development was involved in a corporate alternating current/direct current \"War of Currents\" as well as various patent battles.\n",
    "\"\"\",\"\"\"Tesla went on to pursue his ideas of wireless lighting and electricity distribution in his high-voltage, high-frequency power experiments in New York and Colorado Springs, and made early (1893) pronouncements on the possibility of wireless communication with his devices. \n",
    "          He tried to put these ideas to practical use in an ill-fated attempt at intercontinental wireless transmission, his unfinished Wardenclyffe Tower project.\n",
    "          In his lab he also conducted a range of experiments with mechanical oscillators/generators, electrical discharge tubes, and early X-ray imaging.\n",
    "          He also built a wireless controlled boat, one of the first ever exhibited.\"\"\"]"
   ]
  },
  {
   "cell_type": "code",
   "execution_count": 6,
   "metadata": {},
   "outputs": [
    {
     "data": {
      "text/plain": [
       "'tokenized_contexts = [word_tokenize(context) for context in contexts]\\nindexed_contexts = [[word2index[word] for word in context if word in word2index] for context in tokenized_contexts]'"
      ]
     },
     "execution_count": 6,
     "metadata": {},
     "output_type": "execute_result"
    }
   ],
   "source": [
    "max_len = max([len(word_tokenize(context)) for context in contexts])\n",
    "\"\"\"tokenized_contexts = [word_tokenize(context) for context in contexts]\n",
    "indexed_contexts = [[word2index[word] for word in context if word in word2index] for context in tokenized_contexts]\"\"\""
   ]
  },
  {
   "cell_type": "code",
   "execution_count": 7,
   "metadata": {
    "collapsed": true
   },
   "outputs": [],
   "source": [
    "# padded_contexts = sequence.pad_sequences(indexed_contexts)"
   ]
  },
  {
   "cell_type": "code",
   "execution_count": 8,
   "metadata": {
    "collapsed": true
   },
   "outputs": [],
   "source": [
    "target = np.zeros(max_len*(max_len-1))"
   ]
  },
  {
   "cell_type": "code",
   "execution_count": 9,
   "metadata": {
    "collapsed": true
   },
   "outputs": [],
   "source": [
    "question = \"In what year did Nikola Tesla emigrate to the United States?\""
   ]
  },
  {
   "cell_type": "code",
   "execution_count": 10,
   "metadata": {
    "collapsed": true
   },
   "outputs": [],
   "source": [
    "from itertools import product"
   ]
  },
  {
   "cell_type": "code",
   "execution_count": 11,
   "metadata": {
    "collapsed": true
   },
   "outputs": [],
   "source": [
    "context_question = list(product(contexts, [question]))"
   ]
  },
  {
   "cell_type": "code",
   "execution_count": 12,
   "metadata": {
    "collapsed": true
   },
   "outputs": [],
   "source": [
    "# tokenized_sent = [word_tokenize(sent) for sent in sent_tokenize(context)]"
   ]
  },
  {
   "cell_type": "code",
   "execution_count": 13,
   "metadata": {
    "collapsed": true
   },
   "outputs": [],
   "source": [
    "def get_average_sentence_vector(sentence):\n",
    "    avg_sent_vec = np.zeros((100))\n",
    "    count = 0\n",
    "    for word in sentence:\n",
    "        if word in word2vec_model.wv.vocab:\n",
    "            avg_sent_vec += word2vec_model[word]\n",
    "            count+=1\n",
    "    avg_sent_vec = np.divide(avg_sent_vec, count)\n",
    "    return avg_sent_vec"
   ]
  },
  {
   "cell_type": "code",
   "execution_count": 14,
   "metadata": {
    "collapsed": true
   },
   "outputs": [],
   "source": [
    "avg_sentences = []\n",
    "for context, question in context_question:\n",
    "    avg_sentences.append(get_average_sentence_vector(word_tokenize(context)))"
   ]
  },
  {
   "cell_type": "code",
   "execution_count": 15,
   "metadata": {
    "collapsed": true
   },
   "outputs": [],
   "source": [
    "avg_sentences = np.array(avg_sentences)"
   ]
  },
  {
   "cell_type": "code",
   "execution_count": 16,
   "metadata": {
    "collapsed": true
   },
   "outputs": [],
   "source": [
    "avg_question_vec = get_average_sentence_vector(word_tokenize(question))"
   ]
  },
  {
   "cell_type": "code",
   "execution_count": 17,
   "metadata": {
    "collapsed": true
   },
   "outputs": [],
   "source": [
    "x = np.array(list(product(avg_sentences, [avg_question_vec])))"
   ]
  },
  {
   "cell_type": "code",
   "execution_count": 18,
   "metadata": {
    "collapsed": true
   },
   "outputs": [],
   "source": [
    "x = x.reshape((2, 200))"
   ]
  },
  {
   "cell_type": "code",
   "execution_count": 19,
   "metadata": {
    "collapsed": true
   },
   "outputs": [],
   "source": [
    "sent_1_answer = target\n",
    "sent_1_answer[13] = 1\n",
    "sent_2_answer = target\n",
    "y = np.array([sent_1_answer, sent_2_answer])"
   ]
  },
  {
   "cell_type": "code",
   "execution_count": 34,
   "metadata": {},
   "outputs": [],
   "source": [
    "y = y.reshape(2, 1, 11130)"
   ]
  },
  {
   "cell_type": "code",
   "execution_count": 35,
   "metadata": {
    "collapsed": true
   },
   "outputs": [],
   "source": [
    "x = x.reshape(2,200)"
   ]
  },
  {
   "cell_type": "code",
   "execution_count": 37,
   "metadata": {},
   "outputs": [
    {
     "name": "stdout",
     "output_type": "stream",
     "text": [
      "_________________________________________________________________\n",
      "Layer (type)                 Output Shape              Param #   \n",
      "=================================================================\n",
      "dense_25 (Dense)             (None, 100)               20100     \n",
      "_________________________________________________________________\n",
      "repeat_vector_13 (RepeatVect (None, 1, 100)            0         \n",
      "_________________________________________________________________\n",
      "bidirectional_18 (Bidirectio (None, 1, 200)            160800    \n",
      "_________________________________________________________________\n",
      "dense_26 (Dense)             (None, 1, 11130)          2237130   \n",
      "=================================================================\n",
      "Total params: 2,418,030\n",
      "Trainable params: 2,418,030\n",
      "Non-trainable params: 0\n",
      "_________________________________________________________________\n",
      "Epoch 1/100\n",
      "2/2 [==============================] - 1s - loss: 9.3439 - acc: 0.0000e+00\n",
      "Epoch 2/100\n",
      "2/2 [==============================] - 0s - loss: 9.2947 - acc: 0.0000e+00\n",
      "Epoch 3/100\n",
      "2/2 [==============================] - 0s - loss: 9.2390 - acc: 1.0000\n",
      "Epoch 4/100\n",
      "2/2 [==============================] - 0s - loss: 9.1771 - acc: 1.0000\n",
      "Epoch 5/100\n",
      "2/2 [==============================] - 0s - loss: 9.1053 - acc: 1.0000\n",
      "Epoch 6/100\n",
      "2/2 [==============================] - 0s - loss: 9.0194 - acc: 1.0000\n",
      "Epoch 7/100\n",
      "2/2 [==============================] - 0s - loss: 8.9154 - acc: 1.0000\n",
      "Epoch 8/100\n",
      "2/2 [==============================] - 0s - loss: 8.7898 - acc: 1.0000\n",
      "Epoch 9/100\n",
      "2/2 [==============================] - 0s - loss: 8.6392 - acc: 1.0000\n",
      "Epoch 10/100\n",
      "2/2 [==============================] - 0s - loss: 8.4603 - acc: 1.0000\n",
      "Epoch 11/100\n",
      "2/2 [==============================] - 0s - loss: 8.2502 - acc: 1.0000\n",
      "Epoch 12/100\n",
      "2/2 [==============================] - 0s - loss: 8.0058 - acc: 1.0000\n",
      "Epoch 13/100\n",
      "2/2 [==============================] - 0s - loss: 7.7244 - acc: 1.0000\n",
      "Epoch 14/100\n",
      "2/2 [==============================] - 0s - loss: 7.4027 - acc: 1.0000\n",
      "Epoch 15/100\n",
      "2/2 [==============================] - 0s - loss: 7.0413 - acc: 1.0000\n",
      "Epoch 16/100\n",
      "2/2 [==============================] - 0s - loss: 6.6441 - acc: 1.0000\n",
      "Epoch 17/100\n",
      "2/2 [==============================] - 0s - loss: 6.2115 - acc: 1.0000\n",
      "Epoch 18/100\n",
      "2/2 [==============================] - 0s - loss: 5.7506 - acc: 1.0000\n",
      "Epoch 19/100\n",
      "2/2 [==============================] - 0s - loss: 5.2778 - acc: 1.0000\n",
      "Epoch 20/100\n",
      "2/2 [==============================] - 0s - loss: 4.8111 - acc: 1.0000\n",
      "Epoch 21/100\n",
      "2/2 [==============================] - 0s - loss: 4.3665 - acc: 1.0000\n",
      "Epoch 22/100\n",
      "2/2 [==============================] - 0s - loss: 3.9323 - acc: 1.0000\n",
      "Epoch 23/100\n",
      "2/2 [==============================] - 0s - loss: 3.5107 - acc: 1.0000\n",
      "Epoch 24/100\n",
      "2/2 [==============================] - 0s - loss: 3.0980 - acc: 1.0000\n",
      "Epoch 25/100\n",
      "2/2 [==============================] - 0s - loss: 2.7078 - acc: 1.0000\n",
      "Epoch 26/100\n",
      "2/2 [==============================] - 0s - loss: 2.3403 - acc: 1.0000\n",
      "Epoch 27/100\n",
      "2/2 [==============================] - 0s - loss: 1.9914 - acc: 1.0000\n",
      "Epoch 28/100\n",
      "2/2 [==============================] - 0s - loss: 1.6600 - acc: 1.0000\n",
      "Epoch 29/100\n",
      "2/2 [==============================] - 0s - loss: 1.3510 - acc: 1.0000\n",
      "Epoch 30/100\n",
      "2/2 [==============================] - 0s - loss: 1.0733 - acc: 1.0000\n",
      "Epoch 31/100\n",
      "2/2 [==============================] - 0s - loss: 0.8330 - acc: 1.0000\n",
      "Epoch 32/100\n",
      "2/2 [==============================] - 0s - loss: 0.6336 - acc: 1.0000\n",
      "Epoch 33/100\n",
      "2/2 [==============================] - 0s - loss: 0.4766 - acc: 1.0000\n",
      "Epoch 34/100\n",
      "2/2 [==============================] - 0s - loss: 0.3553 - acc: 1.0000\n",
      "Epoch 35/100\n",
      "2/2 [==============================] - 0s - loss: 0.2656 - acc: 1.0000\n",
      "Epoch 36/100\n",
      "2/2 [==============================] - 0s - loss: 0.1993 - acc: 1.0000\n",
      "Epoch 37/100\n",
      "2/2 [==============================] - 0s - loss: 0.1516 - acc: 1.0000\n",
      "Epoch 38/100\n",
      "2/2 [==============================] - 0s - loss: 0.1172 - acc: 1.0000\n",
      "Epoch 39/100\n",
      "2/2 [==============================] - 0s - loss: 0.0920 - acc: 1.0000\n",
      "Epoch 40/100\n",
      "2/2 [==============================] - 0s - loss: 0.0732 - acc: 1.0000\n",
      "Epoch 41/100\n",
      "2/2 [==============================] - 0s - loss: 0.0590 - acc: 1.0000\n",
      "Epoch 42/100\n",
      "2/2 [==============================] - 0s - loss: 0.0482 - acc: 1.0000\n",
      "Epoch 43/100\n",
      "2/2 [==============================] - 0s - loss: 0.0400 - acc: 1.0000\n",
      "Epoch 44/100\n",
      "2/2 [==============================] - 0s - loss: 0.0337 - acc: 1.0000\n",
      "Epoch 45/100\n",
      "2/2 [==============================] - 0s - loss: 0.0288 - acc: 1.0000\n",
      "Epoch 46/100\n",
      "2/2 [==============================] - 0s - loss: 0.0248 - acc: 1.0000\n",
      "Epoch 47/100\n",
      "2/2 [==============================] - 0s - loss: 0.0217 - acc: 1.0000\n",
      "Epoch 48/100\n",
      "2/2 [==============================] - 0s - loss: 0.0191 - acc: 1.0000\n",
      "Epoch 49/100\n",
      "2/2 [==============================] - 0s - loss: 0.0171 - acc: 1.0000\n",
      "Epoch 50/100\n",
      "2/2 [==============================] - 0s - loss: 0.0153 - acc: 1.0000\n",
      "Epoch 51/100\n",
      "2/2 [==============================] - 0s - loss: 0.0139 - acc: 1.0000\n",
      "Epoch 52/100\n",
      "2/2 [==============================] - 0s - loss: 0.0127 - acc: 1.0000\n",
      "Epoch 53/100\n",
      "2/2 [==============================] - 0s - loss: 0.0117 - acc: 1.0000\n",
      "Epoch 54/100\n",
      "2/2 [==============================] - 0s - loss: 0.0108 - acc: 1.0000\n",
      "Epoch 55/100\n",
      "2/2 [==============================] - 0s - loss: 0.0101 - acc: 1.0000\n",
      "Epoch 56/100\n",
      "2/2 [==============================] - 0s - loss: 0.0095 - acc: 1.0000\n",
      "Epoch 57/100\n",
      "2/2 [==============================] - 0s - loss: 0.0089 - acc: 1.0000\n",
      "Epoch 58/100\n",
      "2/2 [==============================] - 0s - loss: 0.0084 - acc: 1.0000\n",
      "Epoch 59/100\n",
      "2/2 [==============================] - 0s - loss: 0.0080 - acc: 1.0000\n",
      "Epoch 60/100\n",
      "2/2 [==============================] - 0s - loss: 0.0077 - acc: 1.0000\n",
      "Epoch 61/100\n",
      "2/2 [==============================] - 0s - loss: 0.0073 - acc: 1.0000\n",
      "Epoch 62/100\n",
      "2/2 [==============================] - 0s - loss: 0.0071 - acc: 1.0000\n",
      "Epoch 63/100\n",
      "2/2 [==============================] - 0s - loss: 0.0068 - acc: 1.0000\n",
      "Epoch 64/100\n",
      "2/2 [==============================] - 0s - loss: 0.0066 - acc: 1.0000\n",
      "Epoch 65/100\n",
      "2/2 [==============================] - 0s - loss: 0.0064 - acc: 1.0000\n",
      "Epoch 66/100\n",
      "2/2 [==============================] - 0s - loss: 0.0062 - acc: 1.0000\n",
      "Epoch 67/100\n",
      "2/2 [==============================] - 0s - loss: 0.0060 - acc: 1.0000\n",
      "Epoch 68/100\n",
      "2/2 [==============================] - 0s - loss: 0.0059 - acc: 1.0000\n",
      "Epoch 69/100\n",
      "2/2 [==============================] - 0s - loss: 0.0057 - acc: 1.0000\n",
      "Epoch 70/100\n",
      "2/2 [==============================] - 0s - loss: 0.0056 - acc: 1.0000\n",
      "Epoch 71/100\n",
      "2/2 [==============================] - 0s - loss: 0.0055 - acc: 1.0000\n",
      "Epoch 72/100\n",
      "2/2 [==============================] - 0s - loss: 0.0054 - acc: 1.0000\n",
      "Epoch 73/100\n",
      "2/2 [==============================] - 0s - loss: 0.0053 - acc: 1.0000\n",
      "Epoch 74/100\n",
      "2/2 [==============================] - 0s - loss: 0.0052 - acc: 1.0000\n",
      "Epoch 75/100\n",
      "2/2 [==============================] - 0s - loss: 0.0051 - acc: 1.0000\n",
      "Epoch 76/100\n",
      "2/2 [==============================] - 0s - loss: 0.0051 - acc: 1.0000\n",
      "Epoch 77/100\n",
      "2/2 [==============================] - 0s - loss: 0.0050 - acc: 1.0000\n",
      "Epoch 78/100\n",
      "2/2 [==============================] - 0s - loss: 0.0049 - acc: 1.0000\n",
      "Epoch 79/100\n",
      "2/2 [==============================] - 0s - loss: 0.0049 - acc: 1.0000\n",
      "Epoch 80/100\n",
      "2/2 [==============================] - 0s - loss: 0.0048 - acc: 1.0000\n",
      "Epoch 81/100\n",
      "2/2 [==============================] - 0s - loss: 0.0048 - acc: 1.0000\n",
      "Epoch 82/100\n",
      "2/2 [==============================] - 0s - loss: 0.0047 - acc: 1.0000\n",
      "Epoch 83/100\n",
      "2/2 [==============================] - 0s - loss: 0.0047 - acc: 1.0000\n",
      "Epoch 84/100\n",
      "2/2 [==============================] - 0s - loss: 0.0046 - acc: 1.0000\n",
      "Epoch 85/100\n",
      "2/2 [==============================] - 0s - loss: 0.0046 - acc: 1.0000\n",
      "Epoch 86/100\n",
      "2/2 [==============================] - 0s - loss: 0.0045 - acc: 1.0000\n",
      "Epoch 87/100\n",
      "2/2 [==============================] - 0s - loss: 0.0045 - acc: 1.0000\n",
      "Epoch 88/100\n"
     ]
    },
    {
     "name": "stdout",
     "output_type": "stream",
     "text": [
      "2/2 [==============================] - 0s - loss: 0.0045 - acc: 1.0000\n",
      "Epoch 89/100\n",
      "2/2 [==============================] - 0s - loss: 0.0044 - acc: 1.0000\n",
      "Epoch 90/100\n",
      "2/2 [==============================] - 0s - loss: 0.0044 - acc: 1.0000\n",
      "Epoch 91/100\n",
      "2/2 [==============================] - 0s - loss: 0.0044 - acc: 1.0000\n",
      "Epoch 92/100\n",
      "2/2 [==============================] - 0s - loss: 0.0043 - acc: 1.0000\n",
      "Epoch 93/100\n",
      "2/2 [==============================] - 0s - loss: 0.0043 - acc: 1.0000\n",
      "Epoch 94/100\n",
      "2/2 [==============================] - 0s - loss: 0.0043 - acc: 1.0000\n",
      "Epoch 95/100\n",
      "2/2 [==============================] - 0s - loss: 0.0042 - acc: 1.0000\n",
      "Epoch 96/100\n",
      "2/2 [==============================] - 0s - loss: 0.0042 - acc: 1.0000\n",
      "Epoch 97/100\n",
      "2/2 [==============================] - 0s - loss: 0.0042 - acc: 1.0000\n",
      "Epoch 98/100\n",
      "2/2 [==============================] - 0s - loss: 0.0042 - acc: 1.0000\n",
      "Epoch 99/100\n",
      "2/2 [==============================] - 0s - loss: 0.0041 - acc: 1.0000\n",
      "Epoch 100/100\n",
      "2/2 [==============================] - 0s - loss: 0.0041 - acc: 1.0000\n"
     ]
    },
    {
     "data": {
      "text/plain": [
       "<keras.callbacks.History at 0x7fb4970b71d0>"
      ]
     },
     "execution_count": 37,
     "metadata": {},
     "output_type": "execute_result"
    }
   ],
   "source": [
    "model = Sequential()\n",
    "model.add(Dense(100, input_shape=(200,)))\n",
    "model.add(RepeatVector(1))\n",
    "model.add(Bidirectional(LSTM(100, return_sequences=True)))\n",
    "model.add(Dense(y.shape[2], activation=\"softmax\"))\n",
    "model.compile(loss=\"categorical_crossentropy\", optimizer=\"adam\", metrics=[\"accuracy\"])\n",
    "model.summary()\n",
    "model.fit(x, y, epochs=100)"
   ]
  },
  {
   "cell_type": "code",
   "execution_count": null,
   "metadata": {},
   "outputs": [],
   "source": [
    "model.predict(np.array([x[2]]))"
   ]
  },
  {
   "cell_type": "code",
   "execution_count": null,
   "metadata": {
    "collapsed": true
   },
   "outputs": [],
   "source": [
    "Bidirectional()"
   ]
  }
 ],
 "metadata": {
  "kernelspec": {
   "display_name": "Python 3",
   "language": "python",
   "name": "python3"
  },
  "language_info": {
   "codemirror_mode": {
    "name": "ipython",
    "version": 3
   },
   "file_extension": ".py",
   "mimetype": "text/x-python",
   "name": "python",
   "nbconvert_exporter": "python",
   "pygments_lexer": "ipython3",
   "version": "3.5.2"
  }
 },
 "nbformat": 4,
 "nbformat_minor": 2
}
