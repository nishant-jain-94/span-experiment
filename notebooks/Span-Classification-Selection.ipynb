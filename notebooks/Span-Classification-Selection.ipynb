{
 "cells": [
  {
   "cell_type": "code",
   "execution_count": 16,
   "metadata": {},
   "outputs": [],
   "source": [
    "import numpy as np\n",
    "from keras.models import Sequential\n",
    "from keras.layers import Dense, LSTM\n",
    "from keras.layers.wrappers import Bidirectional\n",
    "from embeddings import Embeddings\n",
    "from nltk.tokenize import sent_tokenize, word_tokenize\n",
    "from keras.preprocessing import sequence"
   ]
  },
  {
   "cell_type": "code",
   "execution_count": 17,
   "metadata": {
    "collapsed": true
   },
   "outputs": [],
   "source": [
    "embedding = Embeddings(100, 3, 1, 4)"
   ]
  },
  {
   "cell_type": "code",
   "execution_count": 18,
   "metadata": {
    "collapsed": true
   },
   "outputs": [],
   "source": [
    "word2vec_model = embedding.get_model()\n",
    "vocab = embedding.get_vocabulary()"
   ]
  },
  {
   "cell_type": "code",
   "execution_count": 19,
   "metadata": {
    "collapsed": true
   },
   "outputs": [],
   "source": [
    "word2index = vocab[0]"
   ]
  },
  {
   "cell_type": "code",
   "execution_count": 20,
   "metadata": {
    "collapsed": true
   },
   "outputs": [],
   "source": [
    "contexts = [\"\"\"Tesla gained experience in telephony and electrical engineering before emigrating to the United States in 1884 to work for Thomas Edison in New York City.\n",
    "He soon struck out on his own with financial backers, setting up laboratories and companies to develop a range of electrical devices.\n",
    "His patented AC induction motor and transformer were licensed by George Westinghouse, who also hired Tesla for a short time as a consultant.\n",
    "His work in the formative years of electric power development was involved in a corporate alternating current/direct current \"War of Currents\" as well as various patent battles.\n",
    "\"\"\",\"\"\"Tesla went on to pursue his ideas of wireless lighting and electricity distribution in his high-voltage, high-frequency power experiments in New York and Colorado Springs, and made early (1893) pronouncements on the possibility of wireless communication with his devices. \n",
    "          He tried to put these ideas to practical use in an ill-fated attempt at intercontinental wireless transmission, his unfinished Wardenclyffe Tower project.\n",
    "          In his lab he also conducted a range of experiments with mechanical oscillators/generators, electrical discharge tubes, and early X-ray imaging.\n",
    "          He also built a wireless controlled boat, one of the first ever exhibited.\"\"\"]"
   ]
  },
  {
   "cell_type": "code",
   "execution_count": 21,
   "metadata": {},
   "outputs": [
    {
     "data": {
      "text/plain": [
       "'tokenized_contexts = [word_tokenize(context) for context in contexts]\\nindexed_contexts = [[word2index[word] for word in context if word in word2index] for context in tokenized_contexts]'"
      ]
     },
     "execution_count": 21,
     "metadata": {},
     "output_type": "execute_result"
    }
   ],
   "source": [
    "max_len = max([len(word_tokenize(context)) for context in contexts])\n",
    "\"\"\"tokenized_contexts = [word_tokenize(context) for context in contexts]\n",
    "indexed_contexts = [[word2index[word] for word in context if word in word2index] for context in tokenized_contexts]\"\"\""
   ]
  },
  {
   "cell_type": "code",
   "execution_count": 22,
   "metadata": {
    "collapsed": true
   },
   "outputs": [],
   "source": [
    "# padded_contexts = sequence.pad_sequences(indexed_contexts)"
   ]
  },
  {
   "cell_type": "code",
   "execution_count": 23,
   "metadata": {},
   "outputs": [],
   "source": [
    "target = np.zeros(max_len)"
   ]
  },
  {
   "cell_type": "code",
   "execution_count": 24,
   "metadata": {
    "collapsed": true
   },
   "outputs": [],
   "source": [
    "question = \"In what year did Nikola Tesla emigrate to the United States?\""
   ]
  },
  {
   "cell_type": "code",
   "execution_count": 25,
   "metadata": {
    "collapsed": true
   },
   "outputs": [],
   "source": [
    "from itertools import product"
   ]
  },
  {
   "cell_type": "code",
   "execution_count": 26,
   "metadata": {
    "collapsed": true
   },
   "outputs": [],
   "source": [
    "context_question = list(product(contexts, [question]))"
   ]
  },
  {
   "cell_type": "code",
   "execution_count": 27,
   "metadata": {
    "collapsed": true
   },
   "outputs": [],
   "source": [
    "# tokenized_sent = [word_tokenize(sent) for sent in sent_tokenize(context)]"
   ]
  },
  {
   "cell_type": "code",
   "execution_count": 28,
   "metadata": {
    "collapsed": true
   },
   "outputs": [],
   "source": [
    "def get_average_sentence_vector(sentence):\n",
    "    avg_sent_vec = np.zeros((100))\n",
    "    count = 0\n",
    "    for word in sentence:\n",
    "        if word in word2vec_model.wv.vocab:\n",
    "            avg_sent_vec += word2vec_model[word]\n",
    "            count+=1\n",
    "    avg_sent_vec = np.divide(avg_sent_vec, count)\n",
    "    return avg_sent_vec"
   ]
  },
  {
   "cell_type": "code",
   "execution_count": 29,
   "metadata": {
    "collapsed": true
   },
   "outputs": [],
   "source": [
    "avg_sentences = []\n",
    "for context, question in context_question:\n",
    "    avg_sentences.append(get_average_sentence_vector(word_tokenize(context)))"
   ]
  },
  {
   "cell_type": "code",
   "execution_count": 30,
   "metadata": {
    "collapsed": true
   },
   "outputs": [],
   "source": [
    "avg_sentences = np.array(avg_sentences)"
   ]
  },
  {
   "cell_type": "code",
   "execution_count": 31,
   "metadata": {
    "collapsed": true
   },
   "outputs": [],
   "source": [
    "avg_question_vec = get_average_sentence_vector(word_tokenize(question))"
   ]
  },
  {
   "cell_type": "code",
   "execution_count": 32,
   "metadata": {
    "collapsed": true
   },
   "outputs": [],
   "source": [
    "x = np.array(list(product(avg_sentences, [avg_question_vec])))"
   ]
  },
  {
   "cell_type": "code",
   "execution_count": 33,
   "metadata": {
    "collapsed": true
   },
   "outputs": [],
   "source": [
    "x = x.reshape((2, 200))"
   ]
  },
  {
   "cell_type": "code",
   "execution_count": 41,
   "metadata": {
    "collapsed": true
   },
   "outputs": [],
   "source": [
    "sent_1_answer_start = target\n",
    "sent_1_answer_start[13] = 1\n",
    "sent_2_answer_start = target\n",
    "y_start = np.array([sent_1_answer_start, sent_2_answer_start])"
   ]
  },
  {
   "cell_type": "code",
   "execution_count": 45,
   "metadata": {
    "collapsed": true
   },
   "outputs": [],
   "source": [
    "sent_1_answer_end = target\n",
    "sent_1_answer_end[13] = 1\n",
    "sent_2_answer_end = target\n",
    "y_end = np.array([sent_1_answer_end, sent_2_answer_end])"
   ]
  },
  {
   "cell_type": "code",
   "execution_count": 46,
   "metadata": {},
   "outputs": [
    {
     "name": "stdout",
     "output_type": "stream",
     "text": [
      "Epoch 1/100\n",
      "2/2 [==============================] - 0s - loss: 4.9004 - acc: 0.0000e+00\n",
      "Epoch 2/100\n",
      "2/2 [==============================] - 0s - loss: 4.3850 - acc: 0.0000e+00\n",
      "Epoch 3/100\n",
      "2/2 [==============================] - 0s - loss: 3.7963 - acc: 0.0000e+00\n",
      "Epoch 4/100\n",
      "2/2 [==============================] - 0s - loss: 3.1811 - acc: 1.0000\n",
      "Epoch 5/100\n",
      "2/2 [==============================] - 0s - loss: 2.5618 - acc: 1.0000\n",
      "Epoch 6/100\n",
      "2/2 [==============================] - 0s - loss: 1.9593 - acc: 1.0000\n",
      "Epoch 7/100\n",
      "2/2 [==============================] - 0s - loss: 1.4020 - acc: 1.0000\n",
      "Epoch 8/100\n",
      "2/2 [==============================] - 0s - loss: 0.9256 - acc: 1.0000\n",
      "Epoch 9/100\n",
      "2/2 [==============================] - 0s - loss: 0.5621 - acc: 1.0000\n",
      "Epoch 10/100\n",
      "2/2 [==============================] - 0s - loss: 0.3190 - acc: 1.0000\n",
      "Epoch 11/100\n",
      "2/2 [==============================] - 0s - loss: 0.1744 - acc: 1.0000\n",
      "Epoch 12/100\n",
      "2/2 [==============================] - 0s - loss: 0.0948 - acc: 1.0000\n",
      "Epoch 13/100\n",
      "2/2 [==============================] - 0s - loss: 0.0524 - acc: 1.0000\n",
      "Epoch 14/100\n",
      "2/2 [==============================] - 0s - loss: 0.0298 - acc: 1.0000\n",
      "Epoch 15/100\n",
      "2/2 [==============================] - 0s - loss: 0.0175 - acc: 1.0000\n",
      "Epoch 16/100\n",
      "2/2 [==============================] - 0s - loss: 0.0107 - acc: 1.0000\n",
      "Epoch 17/100\n",
      "2/2 [==============================] - 0s - loss: 0.0067 - acc: 1.0000\n",
      "Epoch 18/100\n",
      "2/2 [==============================] - 0s - loss: 0.0044 - acc: 1.0000\n",
      "Epoch 19/100\n",
      "2/2 [==============================] - 0s - loss: 0.0030 - acc: 1.0000\n",
      "Epoch 20/100\n",
      "2/2 [==============================] - 0s - loss: 0.0021 - acc: 1.0000\n",
      "Epoch 21/100\n",
      "2/2 [==============================] - 0s - loss: 0.0015 - acc: 1.0000\n",
      "Epoch 22/100\n",
      "2/2 [==============================] - 0s - loss: 0.0011 - acc: 1.0000\n",
      "Epoch 23/100\n",
      "2/2 [==============================] - 0s - loss: 8.2429e-04 - acc: 1.0000\n",
      "Epoch 24/100\n",
      "2/2 [==============================] - 0s - loss: 6.3612e-04 - acc: 1.0000\n",
      "Epoch 25/100\n",
      "2/2 [==============================] - 0s - loss: 5.0125e-04 - acc: 1.0000\n",
      "Epoch 26/100\n",
      "2/2 [==============================] - 0s - loss: 4.0304e-04 - acc: 1.0000\n",
      "Epoch 27/100\n",
      "2/2 [==============================] - 0s - loss: 3.2991e-04 - acc: 1.0000\n",
      "Epoch 28/100\n",
      "2/2 [==============================] - 0s - loss: 2.7464e-04 - acc: 1.0000\n",
      "Epoch 29/100\n",
      "2/2 [==============================] - 0s - loss: 2.3219e-04 - acc: 1.0000\n",
      "Epoch 30/100\n",
      "2/2 [==============================] - 0s - loss: 1.9910e-04 - acc: 1.0000\n",
      "Epoch 31/100\n",
      "2/2 [==============================] - 0s - loss: 1.7296e-04 - acc: 1.0000\n",
      "Epoch 32/100\n",
      "2/2 [==============================] - 0s - loss: 1.5212e-04 - acc: 1.0000\n",
      "Epoch 33/100\n",
      "2/2 [==============================] - 0s - loss: 1.3528e-04 - acc: 1.0000\n",
      "Epoch 34/100\n",
      "2/2 [==============================] - 0s - loss: 1.2139e-04 - acc: 1.0000\n",
      "Epoch 35/100\n",
      "2/2 [==============================] - 0s - loss: 1.1001e-04 - acc: 1.0000\n",
      "Epoch 36/100\n",
      "2/2 [==============================] - 0s - loss: 1.0086e-04 - acc: 1.0000\n",
      "Epoch 37/100\n",
      "2/2 [==============================] - 0s - loss: 9.2660e-05 - acc: 1.0000\n",
      "Epoch 38/100\n",
      "2/2 [==============================] - 0s - loss: 8.5954e-05 - acc: 1.0000\n",
      "Epoch 39/100\n",
      "2/2 [==============================] - 0s - loss: 8.0231e-05 - acc: 1.0000\n",
      "Epoch 40/100\n",
      "2/2 [==============================] - 0s - loss: 7.5462e-05 - acc: 1.0000\n",
      "Epoch 41/100\n",
      "2/2 [==============================] - 0s - loss: 7.1170e-05 - acc: 1.0000\n",
      "Epoch 42/100\n",
      "2/2 [==============================] - 0s - loss: 6.7654e-05 - acc: 1.0000\n",
      "Epoch 43/100\n",
      "2/2 [==============================] - 0s - loss: 6.4375e-05 - acc: 1.0000\n",
      "Epoch 44/100\n",
      "2/2 [==============================] - 0s - loss: 6.1723e-05 - acc: 1.0000\n",
      "Epoch 45/100\n",
      "2/2 [==============================] - 0s - loss: 5.9308e-05 - acc: 1.0000\n",
      "Epoch 46/100\n",
      "2/2 [==============================] - 0s - loss: 5.7252e-05 - acc: 1.0000\n",
      "Epoch 47/100\n",
      "2/2 [==============================] - 0s - loss: 5.5374e-05 - acc: 1.0000\n",
      "Epoch 48/100\n",
      "2/2 [==============================] - 0s - loss: 5.3973e-05 - acc: 1.0000\n",
      "Epoch 49/100\n",
      "2/2 [==============================] - 0s - loss: 5.2275e-05 - acc: 1.0000\n",
      "Epoch 50/100\n",
      "2/2 [==============================] - 0s - loss: 5.0814e-05 - acc: 1.0000\n",
      "Epoch 51/100\n",
      "2/2 [==============================] - 0s - loss: 4.9890e-05 - acc: 1.0000\n",
      "Epoch 52/100\n",
      "2/2 [==============================] - 0s - loss: 4.8907e-05 - acc: 1.0000\n",
      "Epoch 53/100\n",
      "2/2 [==============================] - 0s - loss: 4.7953e-05 - acc: 1.0000\n",
      "Epoch 54/100\n",
      "2/2 [==============================] - 0s - loss: 4.7178e-05 - acc: 1.0000\n",
      "Epoch 55/100\n",
      "2/2 [==============================] - 0s - loss: 4.6493e-05 - acc: 1.0000\n",
      "Epoch 56/100\n",
      "2/2 [==============================] - 0s - loss: 4.5718e-05 - acc: 1.0000\n",
      "Epoch 57/100\n",
      "2/2 [==============================] - 0s - loss: 4.5003e-05 - acc: 1.0000\n",
      "Epoch 58/100\n",
      "2/2 [==============================] - 0s - loss: 4.4615e-05 - acc: 1.0000\n",
      "Epoch 59/100\n",
      "2/2 [==============================] - 0s - loss: 4.4079e-05 - acc: 1.0000\n",
      "Epoch 60/100\n",
      "2/2 [==============================] - 0s - loss: 4.3751e-05 - acc: 1.0000\n",
      "Epoch 61/100\n",
      "2/2 [==============================] - 0s - loss: 4.3274e-05 - acc: 1.0000\n",
      "Epoch 62/100\n",
      "2/2 [==============================] - 0s - loss: 4.2767e-05 - acc: 1.0000\n",
      "Epoch 63/100\n",
      "2/2 [==============================] - 0s - loss: 4.2618e-05 - acc: 1.0000\n",
      "Epoch 64/100\n",
      "2/2 [==============================] - 0s - loss: 4.2410e-05 - acc: 1.0000\n",
      "Epoch 65/100\n",
      "2/2 [==============================] - 0s - loss: 4.2201e-05 - acc: 1.0000\n",
      "Epoch 66/100\n",
      "2/2 [==============================] - 0s - loss: 4.2022e-05 - acc: 1.0000\n",
      "Epoch 67/100\n",
      "2/2 [==============================] - 0s - loss: 4.1754e-05 - acc: 1.0000\n",
      "Epoch 68/100\n",
      "2/2 [==============================] - 0s - loss: 4.1605e-05 - acc: 1.0000\n",
      "Epoch 69/100\n",
      "2/2 [==============================] - 0s - loss: 4.1396e-05 - acc: 1.0000\n",
      "Epoch 70/100\n",
      "2/2 [==============================] - 0s - loss: 4.1277e-05 - acc: 1.0000\n",
      "Epoch 71/100\n",
      "2/2 [==============================] - 0s - loss: 4.1158e-05 - acc: 1.0000\n",
      "Epoch 72/100\n",
      "2/2 [==============================] - 0s - loss: 4.1009e-05 - acc: 1.0000\n",
      "Epoch 73/100\n",
      "2/2 [==============================] - 0s - loss: 4.0830e-05 - acc: 1.0000\n",
      "Epoch 74/100\n",
      "2/2 [==============================] - 0s - loss: 4.0681e-05 - acc: 1.0000\n",
      "Epoch 75/100\n",
      "2/2 [==============================] - 0s - loss: 4.0651e-05 - acc: 1.0000\n",
      "Epoch 76/100\n",
      "2/2 [==============================] - 0s - loss: 4.0502e-05 - acc: 1.0000\n",
      "Epoch 77/100\n",
      "2/2 [==============================] - 0s - loss: 4.0353e-05 - acc: 1.0000\n",
      "Epoch 78/100\n",
      "2/2 [==============================] - 0s - loss: 4.0264e-05 - acc: 1.0000\n",
      "Epoch 79/100\n",
      "2/2 [==============================] - 0s - loss: 4.0204e-05 - acc: 1.0000\n",
      "Epoch 80/100\n",
      "2/2 [==============================] - 0s - loss: 4.0174e-05 - acc: 1.0000\n",
      "Epoch 81/100\n",
      "2/2 [==============================] - 0s - loss: 4.0085e-05 - acc: 1.0000\n",
      "Epoch 82/100\n",
      "2/2 [==============================] - 0s - loss: 4.0025e-05 - acc: 1.0000\n",
      "Epoch 83/100\n",
      "2/2 [==============================] - 0s - loss: 3.9936e-05 - acc: 1.0000\n",
      "Epoch 84/100\n",
      "2/2 [==============================] - 0s - loss: 3.9936e-05 - acc: 1.0000\n",
      "Epoch 85/100\n",
      "2/2 [==============================] - 0s - loss: 3.9876e-05 - acc: 1.0000\n",
      "Epoch 86/100\n",
      "2/2 [==============================] - 0s - loss: 3.9817e-05 - acc: 1.0000\n",
      "Epoch 87/100\n",
      "2/2 [==============================] - 0s - loss: 3.9817e-05 - acc: 1.0000\n",
      "Epoch 88/100\n",
      "2/2 [==============================] - 0s - loss: 3.9817e-05 - acc: 1.0000\n",
      "Epoch 89/100\n",
      "2/2 [==============================] - 0s - loss: 3.9787e-05 - acc: 1.0000\n",
      "Epoch 90/100\n",
      "2/2 [==============================] - 0s - loss: 3.9697e-05 - acc: 1.0000\n",
      "Epoch 91/100\n",
      "2/2 [==============================] - 0s - loss: 3.9668e-05 - acc: 1.0000\n",
      "Epoch 92/100\n",
      "2/2 [==============================] - 0s - loss: 3.9668e-05 - acc: 1.0000\n",
      "Epoch 93/100\n",
      "2/2 [==============================] - 0s - loss: 3.9668e-05 - acc: 1.0000\n",
      "Epoch 94/100\n",
      "2/2 [==============================] - 0s - loss: 3.9638e-05 - acc: 1.0000\n",
      "Epoch 95/100\n"
     ]
    },
    {
     "name": "stdout",
     "output_type": "stream",
     "text": [
      "2/2 [==============================] - 0s - loss: 3.9548e-05 - acc: 1.0000\n",
      "Epoch 96/100\n",
      "2/2 [==============================] - 0s - loss: 3.9548e-05 - acc: 1.0000\n",
      "Epoch 97/100\n",
      "2/2 [==============================] - 0s - loss: 3.9548e-05 - acc: 1.0000\n",
      "Epoch 98/100\n",
      "2/2 [==============================] - 0s - loss: 3.9489e-05 - acc: 1.0000\n",
      "Epoch 99/100\n",
      "2/2 [==============================] - 0s - loss: 3.9489e-05 - acc: 1.0000\n",
      "Epoch 100/100\n",
      "2/2 [==============================] - 0s - loss: 3.9459e-05 - acc: 1.0000\n"
     ]
    },
    {
     "data": {
      "text/plain": [
       "<keras.callbacks.History at 0x7fc097c7b828>"
      ]
     },
     "execution_count": 46,
     "metadata": {},
     "output_type": "execute_result"
    }
   ],
   "source": [
    "model = Sequential()\n",
    "model.add(Dense(100, input_shape=(200,)))\n",
    "model.add(Dense(y_start.shape[1], activation=\"softmax\"))\n",
    "model.compile(loss=\"categorical_crossentropy\", optimizer=\"adam\", metrics=[\"accuracy\"])\n",
    "model.fit(x, y_start, epochs=100)"
   ]
  },
  {
   "cell_type": "code",
   "execution_count": 47,
   "metadata": {},
   "outputs": [
    {
     "name": "stdout",
     "output_type": "stream",
     "text": [
      "Epoch 1/100\n",
      "2/2 [==============================] - 0s - loss: 3.9873 - acc: 0.0000e+00\n",
      "Epoch 2/100\n",
      "2/2 [==============================] - 0s - loss: 3.4234 - acc: 0.0000e+00\n",
      "Epoch 3/100\n",
      "2/2 [==============================] - 0s - loss: 2.7885 - acc: 1.0000\n",
      "Epoch 4/100\n",
      "2/2 [==============================] - 0s - loss: 2.1459 - acc: 1.0000\n",
      "Epoch 5/100\n",
      "2/2 [==============================] - 0s - loss: 1.5384 - acc: 1.0000\n",
      "Epoch 6/100\n",
      "2/2 [==============================] - 0s - loss: 1.0116 - acc: 1.0000\n",
      "Epoch 7/100\n",
      "2/2 [==============================] - 0s - loss: 0.6070 - acc: 1.0000\n",
      "Epoch 8/100\n",
      "2/2 [==============================] - 0s - loss: 0.3380 - acc: 1.0000\n",
      "Epoch 9/100\n",
      "2/2 [==============================] - 0s - loss: 0.1810 - acc: 1.0000\n",
      "Epoch 10/100\n",
      "2/2 [==============================] - 0s - loss: 0.0966 - acc: 1.0000\n",
      "Epoch 11/100\n",
      "2/2 [==============================] - 0s - loss: 0.0527 - acc: 1.0000\n",
      "Epoch 12/100\n",
      "2/2 [==============================] - 0s - loss: 0.0297 - acc: 1.0000\n",
      "Epoch 13/100\n",
      "2/2 [==============================] - 0s - loss: 0.0174 - acc: 1.0000\n",
      "Epoch 14/100\n",
      "2/2 [==============================] - 0s - loss: 0.0106 - acc: 1.0000\n",
      "Epoch 15/100\n",
      "2/2 [==============================] - 0s - loss: 0.0067 - acc: 1.0000\n",
      "Epoch 16/100\n",
      "2/2 [==============================] - 0s - loss: 0.0044 - acc: 1.0000\n",
      "Epoch 17/100\n",
      "2/2 [==============================] - 0s - loss: 0.0030 - acc: 1.0000\n",
      "Epoch 18/100\n",
      "2/2 [==============================] - 0s - loss: 0.0021 - acc: 1.0000\n",
      "Epoch 19/100\n",
      "2/2 [==============================] - 0s - loss: 0.0015 - acc: 1.0000\n",
      "Epoch 20/100\n",
      "2/2 [==============================] - 0s - loss: 0.0011 - acc: 1.0000\n",
      "Epoch 21/100\n",
      "2/2 [==============================] - 0s - loss: 8.4770e-04 - acc: 1.0000\n",
      "Epoch 22/100\n",
      "2/2 [==============================] - 0s - loss: 6.5870e-04 - acc: 1.0000\n",
      "Epoch 23/100\n",
      "2/2 [==============================] - 0s - loss: 5.2266e-04 - acc: 1.0000\n",
      "Epoch 24/100\n",
      "2/2 [==============================] - 0s - loss: 4.2284e-04 - acc: 1.0000\n",
      "Epoch 25/100\n",
      "2/2 [==============================] - 0s - loss: 3.4821e-04 - acc: 1.0000\n",
      "Epoch 26/100\n",
      "2/2 [==============================] - 0s - loss: 2.9172e-04 - acc: 1.0000\n",
      "Epoch 27/100\n",
      "2/2 [==============================] - 0s - loss: 2.4784e-04 - acc: 1.0000\n",
      "Epoch 28/100\n",
      "2/2 [==============================] - 0s - loss: 2.1365e-04 - acc: 1.0000\n",
      "Epoch 29/100\n",
      "2/2 [==============================] - 0s - loss: 1.8631e-04 - acc: 1.0000\n",
      "Epoch 30/100\n",
      "2/2 [==============================] - 0s - loss: 1.6461e-04 - acc: 1.0000\n",
      "Epoch 31/100\n",
      "2/2 [==============================] - 0s - loss: 1.4694e-04 - acc: 1.0000\n",
      "Epoch 32/100\n",
      "2/2 [==============================] - 0s - loss: 1.3221e-04 - acc: 1.0000\n",
      "Epoch 33/100\n",
      "2/2 [==============================] - 0s - loss: 1.2047e-04 - acc: 1.0000\n",
      "Epoch 34/100\n",
      "2/2 [==============================] - 0s - loss: 1.1048e-04 - acc: 1.0000\n",
      "Epoch 35/100\n",
      "2/2 [==============================] - 0s - loss: 1.0196e-04 - acc: 1.0000\n",
      "Epoch 36/100\n",
      "2/2 [==============================] - 0s - loss: 9.5253e-05 - acc: 1.0000\n",
      "Epoch 37/100\n",
      "2/2 [==============================] - 0s - loss: 8.8815e-05 - acc: 1.0000\n",
      "Epoch 38/100\n",
      "2/2 [==============================] - 0s - loss: 8.3688e-05 - acc: 1.0000\n",
      "Epoch 39/100\n",
      "2/2 [==============================] - 0s - loss: 7.9218e-05 - acc: 1.0000\n",
      "Epoch 40/100\n",
      "2/2 [==============================] - 0s - loss: 7.5403e-05 - acc: 1.0000\n",
      "Epoch 41/100\n",
      "2/2 [==============================] - 0s - loss: 7.2035e-05 - acc: 1.0000\n",
      "Epoch 42/100\n",
      "2/2 [==============================] - 0s - loss: 6.9054e-05 - acc: 1.0000\n",
      "Epoch 43/100\n",
      "2/2 [==============================] - 0s - loss: 6.6461e-05 - acc: 1.0000\n",
      "Epoch 44/100\n",
      "2/2 [==============================] - 0s - loss: 6.4077e-05 - acc: 1.0000\n",
      "Epoch 45/100\n",
      "2/2 [==============================] - 0s - loss: 6.2289e-05 - acc: 1.0000\n",
      "Epoch 46/100\n",
      "2/2 [==============================] - 0s - loss: 6.0560e-05 - acc: 1.0000\n",
      "Epoch 47/100\n",
      "2/2 [==============================] - 0s - loss: 5.8951e-05 - acc: 1.0000\n",
      "Epoch 48/100\n",
      "2/2 [==============================] - 0s - loss: 5.7580e-05 - acc: 1.0000\n",
      "Epoch 49/100\n",
      "2/2 [==============================] - 0s - loss: 5.6149e-05 - acc: 1.0000\n",
      "Epoch 50/100\n",
      "2/2 [==============================] - 0s - loss: 5.5106e-05 - acc: 1.0000\n",
      "Epoch 51/100\n",
      "2/2 [==============================] - 0s - loss: 5.3973e-05 - acc: 1.0000\n",
      "Epoch 52/100\n",
      "2/2 [==============================] - 0s - loss: 5.3199e-05 - acc: 1.0000\n",
      "Epoch 53/100\n",
      "2/2 [==============================] - 0s - loss: 5.2364e-05 - acc: 1.0000\n",
      "Epoch 54/100\n",
      "2/2 [==============================] - 0s - loss: 5.1649e-05 - acc: 1.0000\n",
      "Epoch 55/100\n",
      "2/2 [==============================] - 0s - loss: 5.0963e-05 - acc: 1.0000\n",
      "Epoch 56/100\n",
      "2/2 [==============================] - 0s - loss: 5.0457e-05 - acc: 1.0000\n",
      "Epoch 57/100\n",
      "2/2 [==============================] - 0s - loss: 4.9890e-05 - acc: 1.0000\n",
      "Epoch 58/100\n",
      "2/2 [==============================] - 0s - loss: 4.9384e-05 - acc: 1.0000\n",
      "Epoch 59/100\n",
      "2/2 [==============================] - 0s - loss: 4.8966e-05 - acc: 1.0000\n",
      "Epoch 60/100\n",
      "2/2 [==============================] - 0s - loss: 4.8579e-05 - acc: 1.0000\n",
      "Epoch 61/100\n",
      "2/2 [==============================] - 0s - loss: 4.8132e-05 - acc: 1.0000\n",
      "Epoch 62/100\n",
      "2/2 [==============================] - 0s - loss: 4.7804e-05 - acc: 1.0000\n",
      "Epoch 63/100\n",
      "2/2 [==============================] - 0s - loss: 4.7685e-05 - acc: 1.0000\n",
      "Epoch 64/100\n",
      "2/2 [==============================] - 0s - loss: 4.7327e-05 - acc: 1.0000\n",
      "Epoch 65/100\n",
      "2/2 [==============================] - 0s - loss: 4.7119e-05 - acc: 1.0000\n",
      "Epoch 66/100\n",
      "2/2 [==============================] - 0s - loss: 4.6880e-05 - acc: 1.0000\n",
      "Epoch 67/100\n",
      "2/2 [==============================] - 0s - loss: 4.6523e-05 - acc: 1.0000\n",
      "Epoch 68/100\n",
      "2/2 [==============================] - 0s - loss: 4.6463e-05 - acc: 1.0000\n",
      "Epoch 69/100\n",
      "2/2 [==============================] - 0s - loss: 4.6314e-05 - acc: 1.0000\n",
      "Epoch 70/100\n",
      "2/2 [==============================] - 0s - loss: 4.6284e-05 - acc: 1.0000\n",
      "Epoch 71/100\n",
      "2/2 [==============================] - 0s - loss: 4.6165e-05 - acc: 1.0000\n",
      "Epoch 72/100\n",
      "2/2 [==============================] - 0s - loss: 4.6075e-05 - acc: 1.0000\n",
      "Epoch 73/100\n",
      "2/2 [==============================] - 0s - loss: 4.5897e-05 - acc: 1.0000\n",
      "Epoch 74/100\n",
      "2/2 [==============================] - 0s - loss: 4.5837e-05 - acc: 1.0000\n",
      "Epoch 75/100\n",
      "2/2 [==============================] - 0s - loss: 4.5777e-05 - acc: 1.0000\n",
      "Epoch 76/100\n",
      "2/2 [==============================] - 0s - loss: 4.5658e-05 - acc: 1.0000\n",
      "Epoch 77/100\n",
      "2/2 [==============================] - 0s - loss: 4.5599e-05 - acc: 1.0000\n",
      "Epoch 78/100\n",
      "2/2 [==============================] - 0s - loss: 4.5479e-05 - acc: 1.0000\n",
      "Epoch 79/100\n",
      "2/2 [==============================] - 0s - loss: 4.5450e-05 - acc: 1.0000\n",
      "Epoch 80/100\n",
      "2/2 [==============================] - 0s - loss: 4.5390e-05 - acc: 1.0000\n",
      "Epoch 81/100\n",
      "2/2 [==============================] - 0s - loss: 4.5241e-05 - acc: 1.0000\n",
      "Epoch 82/100\n",
      "2/2 [==============================] - 0s - loss: 4.5122e-05 - acc: 1.0000\n",
      "Epoch 83/100\n",
      "2/2 [==============================] - 0s - loss: 4.5122e-05 - acc: 1.0000\n",
      "Epoch 84/100\n",
      "2/2 [==============================] - 0s - loss: 4.5062e-05 - acc: 1.0000\n",
      "Epoch 85/100\n",
      "2/2 [==============================] - 0s - loss: 4.4913e-05 - acc: 1.0000\n",
      "Epoch 86/100\n",
      "2/2 [==============================] - 0s - loss: 4.4854e-05 - acc: 1.0000\n",
      "Epoch 87/100\n",
      "2/2 [==============================] - 0s - loss: 4.4854e-05 - acc: 1.0000\n",
      "Epoch 88/100\n",
      "2/2 [==============================] - 0s - loss: 4.4824e-05 - acc: 1.0000\n",
      "Epoch 89/100\n",
      "2/2 [==============================] - 0s - loss: 4.4824e-05 - acc: 1.0000\n",
      "Epoch 90/100\n",
      "2/2 [==============================] - 0s - loss: 4.4824e-05 - acc: 1.0000\n",
      "Epoch 91/100\n",
      "2/2 [==============================] - 0s - loss: 4.4824e-05 - acc: 1.0000\n",
      "Epoch 92/100\n",
      "2/2 [==============================] - 0s - loss: 4.4854e-05 - acc: 1.0000\n",
      "Epoch 93/100\n",
      "2/2 [==============================] - 0s - loss: 4.4824e-05 - acc: 1.0000\n",
      "Epoch 94/100\n",
      "2/2 [==============================] - 0s - loss: 4.4824e-05 - acc: 1.0000\n",
      "Epoch 95/100\n"
     ]
    },
    {
     "name": "stdout",
     "output_type": "stream",
     "text": [
      "2/2 [==============================] - 0s - loss: 4.4824e-05 - acc: 1.0000\n",
      "Epoch 96/100\n",
      "2/2 [==============================] - 0s - loss: 4.4704e-05 - acc: 1.0000\n",
      "Epoch 97/100\n",
      "2/2 [==============================] - 0s - loss: 4.4704e-05 - acc: 1.0000\n",
      "Epoch 98/100\n",
      "2/2 [==============================] - 0s - loss: 4.4645e-05 - acc: 1.0000\n",
      "Epoch 99/100\n",
      "2/2 [==============================] - 0s - loss: 4.4645e-05 - acc: 1.0000\n",
      "Epoch 100/100\n",
      "2/2 [==============================] - 0s - loss: 4.4645e-05 - acc: 1.0000\n"
     ]
    },
    {
     "data": {
      "text/plain": [
       "<keras.callbacks.History at 0x7fc09836f6a0>"
      ]
     },
     "execution_count": 47,
     "metadata": {},
     "output_type": "execute_result"
    }
   ],
   "source": [
    "model_end = Sequential()\n",
    "model_end.add(Dense(100, input_shape=(200,)))\n",
    "model_end.add(Dense(y_start.shape[1], activation=\"softmax\"))\n",
    "model_end.compile(loss=\"categorical_crossentropy\", optimizer=\"adam\", metrics=[\"accuracy\"])\n",
    "model_end.fit(x, y_end, epochs=100)"
   ]
  },
  {
   "cell_type": "code",
   "execution_count": null,
   "metadata": {
    "collapsed": true
   },
   "outputs": [],
   "source": [
    "model.predict(np.array([x[2]]))"
   ]
  },
  {
   "cell_type": "code",
   "execution_count": 48,
   "metadata": {},
   "outputs": [
    {
     "ename": "IndexError",
     "evalue": "index 2 is out of bounds for axis 0 with size 2",
     "output_type": "error",
     "traceback": [
      "\u001b[0;31m---------------------------------------------------------------------------\u001b[0m",
      "\u001b[0;31mIndexError\u001b[0m                                Traceback (most recent call last)",
      "\u001b[0;32m<ipython-input-48-1838b5f46d8b>\u001b[0m in \u001b[0;36m<module>\u001b[0;34m()\u001b[0m\n\u001b[0;32m----> 1\u001b[0;31m \u001b[0mmodel_end\u001b[0m\u001b[0;34m.\u001b[0m\u001b[0mpredict\u001b[0m\u001b[0;34m(\u001b[0m\u001b[0mnp\u001b[0m\u001b[0;34m.\u001b[0m\u001b[0marray\u001b[0m\u001b[0;34m(\u001b[0m\u001b[0;34m[\u001b[0m\u001b[0mx\u001b[0m\u001b[0;34m[\u001b[0m\u001b[0;36m2\u001b[0m\u001b[0;34m]\u001b[0m\u001b[0;34m]\u001b[0m\u001b[0;34m)\u001b[0m\u001b[0;34m)\u001b[0m\u001b[0;34m\u001b[0m\u001b[0m\n\u001b[0m",
      "\u001b[0;31mIndexError\u001b[0m: index 2 is out of bounds for axis 0 with size 2"
     ]
    }
   ],
   "source": [
    "model_end.predict(np.array([x[2]]))"
   ]
  },
  {
   "cell_type": "code",
   "execution_count": null,
   "metadata": {
    "collapsed": true
   },
   "outputs": [],
   "source": []
  }
 ],
 "metadata": {
  "kernelspec": {
   "display_name": "Python 3",
   "language": "python",
   "name": "python3"
  },
  "language_info": {
   "codemirror_mode": {
    "name": "ipython",
    "version": 3
   },
   "file_extension": ".py",
   "mimetype": "text/x-python",
   "name": "python",
   "nbconvert_exporter": "python",
   "pygments_lexer": "ipython3",
   "version": "3.5.2"
  }
 },
 "nbformat": 4,
 "nbformat_minor": 2
}
