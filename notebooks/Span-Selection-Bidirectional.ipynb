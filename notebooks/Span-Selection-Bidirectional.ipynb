{
 "cells": [
  {
   "cell_type": "code",
   "execution_count": 100,
   "metadata": {},
   "outputs": [],
   "source": [
    "import numpy as np\n",
    "from keras.models import Sequential\n",
    "from keras.layers import Dense, LSTM\n",
    "from keras.layers import RepeatVector\n",
    "from keras.layers.wrappers import Bidirectional\n",
    "from keras.layers import TimeDistributed\n",
    "from keras.layers import Reshape\n",
    "from embeddings import Embeddings\n",
    "from nltk.tokenize import sent_tokenize, word_tokenize\n",
    "from keras.preprocessing import sequence\n",
    "from keras.layers.convolutional_recurrent import ConvLSTM2D\n",
    "from keras.utils import to_categorical\n",
    "from keras.layers.pooling import MaxPool1D"
   ]
  },
  {
   "cell_type": "code",
   "execution_count": 2,
   "metadata": {
    "collapsed": true
   },
   "outputs": [],
   "source": [
    "embedding = Embeddings(100, 3, 1, 4)"
   ]
  },
  {
   "cell_type": "code",
   "execution_count": 3,
   "metadata": {
    "collapsed": true
   },
   "outputs": [],
   "source": [
    "word2vec_model = embedding.get_model()\n",
    "vocab = embedding.get_vocabulary()"
   ]
  },
  {
   "cell_type": "code",
   "execution_count": 4,
   "metadata": {
    "collapsed": true
   },
   "outputs": [],
   "source": [
    "word2index = vocab[0]"
   ]
  },
  {
   "cell_type": "code",
   "execution_count": 5,
   "metadata": {
    "collapsed": true
   },
   "outputs": [],
   "source": [
    "contexts = [\"\"\"Tesla gained experience in telephony and electrical engineering before emigrating to the United States in 1884 to work for Thomas Edison in New York City.\n",
    "He soon struck out on his own with financial backers, setting up laboratories and companies to develop a range of electrical devices.\n",
    "His patented AC induction motor and transformer were licensed by George Westinghouse, who also hired Tesla for a short time as a consultant.\n",
    "His work in the formative years of electric power development was involved in a corporate alternating current/direct current \"War of Currents\" as well as various patent battles.\n",
    "\"\"\",\"\"\"Tesla went on to pursue his ideas of wireless lighting and electricity distribution in his high-voltage, high-frequency power experiments in New York and Colorado Springs, and made early (1893) pronouncements on the possibility of wireless communication with his devices. \n",
    "          He tried to put these ideas to practical use in an ill-fated attempt at intercontinental wireless transmission, his unfinished Wardenclyffe Tower project.\n",
    "          In his lab he also conducted a range of experiments with mechanical oscillators/generators, electrical discharge tubes, and early X-ray imaging.\n",
    "          He also built a wireless controlled boat, one of the first ever exhibited.\"\"\"]"
   ]
  },
  {
   "cell_type": "code",
   "execution_count": 6,
   "metadata": {},
   "outputs": [
    {
     "data": {
      "text/plain": [
       "'tokenized_contexts = [word_tokenize(context) for context in contexts]\\nindexed_contexts = [[word2index[word] for word in context if word in word2index] for context in tokenized_contexts]'"
      ]
     },
     "execution_count": 6,
     "metadata": {},
     "output_type": "execute_result"
    }
   ],
   "source": [
    "max_len = max([len(word_tokenize(context)) for context in contexts])\n",
    "\"\"\"tokenized_contexts = [word_tokenize(context) for context in contexts]\n",
    "indexed_contexts = [[word2index[word] for word in context if word in word2index] for context in tokenized_contexts]\"\"\""
   ]
  },
  {
   "cell_type": "code",
   "execution_count": 7,
   "metadata": {
    "collapsed": true
   },
   "outputs": [],
   "source": [
    "# padded_contexts = sequence.pad_sequences(indexed_contexts)"
   ]
  },
  {
   "cell_type": "code",
   "execution_count": 8,
   "metadata": {
    "collapsed": true
   },
   "outputs": [],
   "source": [
    "target = np.zeros(max_len)"
   ]
  },
  {
   "cell_type": "code",
   "execution_count": 9,
   "metadata": {
    "collapsed": true
   },
   "outputs": [],
   "source": [
    "question = \"In what year did Nikola Tesla emigrate to the United States?\""
   ]
  },
  {
   "cell_type": "code",
   "execution_count": 10,
   "metadata": {
    "collapsed": true
   },
   "outputs": [],
   "source": [
    "from itertools import product"
   ]
  },
  {
   "cell_type": "code",
   "execution_count": 11,
   "metadata": {
    "collapsed": true
   },
   "outputs": [],
   "source": [
    "context_question = list(product(contexts, [question]))"
   ]
  },
  {
   "cell_type": "code",
   "execution_count": 12,
   "metadata": {
    "collapsed": true
   },
   "outputs": [],
   "source": [
    "# tokenized_sent = [word_tokenize(sent) for sent in sent_tokenize(context)]"
   ]
  },
  {
   "cell_type": "code",
   "execution_count": 13,
   "metadata": {
    "collapsed": true
   },
   "outputs": [],
   "source": [
    "def get_average_sentence_vector(sentence):\n",
    "    avg_sent_vec = np.zeros((100))\n",
    "    count = 0\n",
    "    for word in sentence:\n",
    "        if word in word2vec_model.wv.vocab:\n",
    "            avg_sent_vec += word2vec_model[word]\n",
    "            count+=1\n",
    "    avg_sent_vec = np.divide(avg_sent_vec, count)\n",
    "    return avg_sent_vec"
   ]
  },
  {
   "cell_type": "code",
   "execution_count": 14,
   "metadata": {
    "collapsed": true
   },
   "outputs": [],
   "source": [
    "avg_sentences = []\n",
    "for context, question in context_question:\n",
    "    avg_sentences.append(get_average_sentence_vector(word_tokenize(context)))"
   ]
  },
  {
   "cell_type": "code",
   "execution_count": 15,
   "metadata": {
    "collapsed": true
   },
   "outputs": [],
   "source": [
    "avg_sentences = np.array(avg_sentences)"
   ]
  },
  {
   "cell_type": "code",
   "execution_count": 16,
   "metadata": {
    "collapsed": true
   },
   "outputs": [],
   "source": [
    "avg_question_vec = get_average_sentence_vector(word_tokenize(question))"
   ]
  },
  {
   "cell_type": "code",
   "execution_count": 17,
   "metadata": {
    "collapsed": true
   },
   "outputs": [],
   "source": [
    "x = np.array(list(product(avg_sentences, [avg_question_vec])))"
   ]
  },
  {
   "cell_type": "code",
   "execution_count": 18,
   "metadata": {
    "collapsed": true
   },
   "outputs": [],
   "source": [
    "x = x.reshape((2, 200))"
   ]
  },
  {
   "cell_type": "code",
   "execution_count": 28,
   "metadata": {
    "collapsed": true
   },
   "outputs": [],
   "source": [
    "sent_1_answer_start = target\n",
    "sent_1_answer_start[13] = 1\n",
    "sent_2_answer_start = target\n",
    "sent_1_answer_end = target\n",
    "sent_1_answer_end[13] = 1\n",
    "sent_2_answer_end = target\n",
    "y_start = np.array([sent_1_answer_start, sent_2_answer_start])\n",
    "y_end = np.array([sent_1_answer_end, sent_2_answer_end])"
   ]
  },
  {
   "cell_type": "code",
   "execution_count": 29,
   "metadata": {},
   "outputs": [],
   "source": [
    "x = x.reshape(2,200)\n",
    "# y_start = y_start.reshape(2, 2106)"
   ]
  },
  {
   "cell_type": "code",
   "execution_count": 32,
   "metadata": {},
   "outputs": [
    {
     "name": "stdout",
     "output_type": "stream",
     "text": [
      "_________________________________________________________________\n",
      "Layer (type)                 Output Shape              Param #   \n",
      "=================================================================\n",
      "dense_11 (Dense)             (None, 100)               20100     \n",
      "_________________________________________________________________\n",
      "repeat_vector_6 (RepeatVecto (None, 1, 100)            0         \n",
      "_________________________________________________________________\n",
      "bidirectional_6 (Bidirection (None, 200)               160800    \n",
      "_________________________________________________________________\n",
      "dense_12 (Dense)             (None, 106)               21306     \n",
      "=================================================================\n",
      "Total params: 202,206\n",
      "Trainable params: 202,206\n",
      "Non-trainable params: 0\n",
      "_________________________________________________________________\n",
      "Epoch 1/100\n",
      "2/2 [==============================] - 0s - loss: 4.6915 - acc: 0.0000e+00\n",
      "Epoch 2/100\n",
      "2/2 [==============================] - 0s - loss: 4.4362 - acc: 0.0000e+00\n",
      "Epoch 3/100\n",
      "2/2 [==============================] - 0s - loss: 4.1477 - acc: 1.0000\n",
      "Epoch 4/100\n",
      "2/2 [==============================] - 0s - loss: 3.8444 - acc: 1.0000\n",
      "Epoch 5/100\n",
      "2/2 [==============================] - 0s - loss: 3.5229 - acc: 1.0000\n",
      "Epoch 6/100\n",
      "2/2 [==============================] - 0s - loss: 3.1753 - acc: 1.0000\n",
      "Epoch 7/100\n",
      "2/2 [==============================] - 0s - loss: 2.7962 - acc: 1.0000\n",
      "Epoch 8/100\n",
      "2/2 [==============================] - 0s - loss: 2.3850 - acc: 1.0000\n",
      "Epoch 9/100\n",
      "2/2 [==============================] - 0s - loss: 1.9474 - acc: 1.0000\n",
      "Epoch 10/100\n",
      "2/2 [==============================] - 0s - loss: 1.4991 - acc: 1.0000\n",
      "Epoch 11/100\n",
      "2/2 [==============================] - 0s - loss: 1.0691 - acc: 1.0000\n",
      "Epoch 12/100\n",
      "2/2 [==============================] - 0s - loss: 0.6952 - acc: 1.0000\n",
      "Epoch 13/100\n",
      "2/2 [==============================] - 0s - loss: 0.4104 - acc: 1.0000\n",
      "Epoch 14/100\n",
      "2/2 [==============================] - 0s - loss: 0.2261 - acc: 1.0000\n",
      "Epoch 15/100\n",
      "2/2 [==============================] - 0s - loss: 0.1200 - acc: 1.0000\n",
      "Epoch 16/100\n",
      "2/2 [==============================] - 0s - loss: 0.0635 - acc: 1.0000\n",
      "Epoch 17/100\n",
      "2/2 [==============================] - 0s - loss: 0.0345 - acc: 1.0000\n",
      "Epoch 18/100\n",
      "2/2 [==============================] - 0s - loss: 0.0194 - acc: 1.0000\n",
      "Epoch 19/100\n",
      "2/2 [==============================] - 0s - loss: 0.0116 - acc: 1.0000\n",
      "Epoch 20/100\n",
      "2/2 [==============================] - 0s - loss: 0.0075 - acc: 1.0000\n",
      "Epoch 21/100\n",
      "2/2 [==============================] - 0s - loss: 0.0050 - acc: 1.0000\n",
      "Epoch 22/100\n",
      "2/2 [==============================] - 0s - loss: 0.0035 - acc: 1.0000\n",
      "Epoch 23/100\n",
      "2/2 [==============================] - 0s - loss: 0.0026 - acc: 1.0000\n",
      "Epoch 24/100\n",
      "2/2 [==============================] - 0s - loss: 0.0020 - acc: 1.0000\n",
      "Epoch 25/100\n",
      "2/2 [==============================] - 0s - loss: 0.0016 - acc: 1.0000\n",
      "Epoch 26/100\n",
      "2/2 [==============================] - 0s - loss: 0.0013 - acc: 1.0000\n",
      "Epoch 27/100\n",
      "2/2 [==============================] - 0s - loss: 0.0011 - acc: 1.0000\n",
      "Epoch 28/100\n",
      "2/2 [==============================] - 0s - loss: 9.1278e-04 - acc: 1.0000\n",
      "Epoch 29/100\n",
      "2/2 [==============================] - 0s - loss: 7.9380e-04 - acc: 1.0000\n",
      "Epoch 30/100\n",
      "2/2 [==============================] - 0s - loss: 7.0090e-04 - acc: 1.0000\n",
      "Epoch 31/100\n",
      "2/2 [==============================] - 0s - loss: 6.2685e-04 - acc: 1.0000\n",
      "Epoch 32/100\n",
      "2/2 [==============================] - 0s - loss: 5.6670e-04 - acc: 1.0000\n",
      "Epoch 33/100\n",
      "2/2 [==============================] - 0s - loss: 5.1732e-04 - acc: 1.0000\n",
      "Epoch 34/100\n",
      "2/2 [==============================] - 0s - loss: 4.7701e-04 - acc: 1.0000\n",
      "Epoch 35/100\n",
      "2/2 [==============================] - 0s - loss: 4.4353e-04 - acc: 1.0000\n",
      "Epoch 36/100\n",
      "2/2 [==============================] - 0s - loss: 4.1526e-04 - acc: 1.0000\n",
      "Epoch 37/100\n",
      "2/2 [==============================] - 0s - loss: 3.9150e-04 - acc: 1.0000\n",
      "Epoch 38/100\n",
      "2/2 [==============================] - 0s - loss: 3.7096e-04 - acc: 1.0000\n",
      "Epoch 39/100\n",
      "2/2 [==============================] - 0s - loss: 3.5310e-04 - acc: 1.0000\n",
      "Epoch 40/100\n",
      "2/2 [==============================] - 0s - loss: 3.3772e-04 - acc: 1.0000\n",
      "Epoch 41/100\n",
      "2/2 [==============================] - 0s - loss: 3.2415e-04 - acc: 1.0000\n",
      "Epoch 42/100\n",
      "2/2 [==============================] - 0s - loss: 3.1250e-04 - acc: 1.0000\n",
      "Epoch 43/100\n",
      "2/2 [==============================] - 0s - loss: 3.0233e-04 - acc: 1.0000\n",
      "Epoch 44/100\n",
      "2/2 [==============================] - 0s - loss: 2.9309e-04 - acc: 1.0000\n",
      "Epoch 45/100\n",
      "2/2 [==============================] - 0s - loss: 2.8477e-04 - acc: 1.0000\n",
      "Epoch 46/100\n",
      "2/2 [==============================] - 0s - loss: 2.7783e-04 - acc: 1.0000\n",
      "Epoch 47/100\n",
      "2/2 [==============================] - 0s - loss: 2.7139e-04 - acc: 1.0000\n",
      "Epoch 48/100\n",
      "2/2 [==============================] - 0s - loss: 2.6537e-04 - acc: 1.0000\n",
      "Epoch 49/100\n",
      "2/2 [==============================] - 0s - loss: 2.6012e-04 - acc: 1.0000\n",
      "Epoch 50/100\n",
      "2/2 [==============================] - 0s - loss: 2.5556e-04 - acc: 1.0000\n",
      "Epoch 51/100\n",
      "2/2 [==============================] - 0s - loss: 2.5144e-04 - acc: 1.0000\n",
      "Epoch 52/100\n",
      "2/2 [==============================] - 0s - loss: 2.4745e-04 - acc: 1.0000\n",
      "Epoch 53/100\n",
      "2/2 [==============================] - 0s - loss: 2.4405e-04 - acc: 1.0000\n",
      "Epoch 54/100\n",
      "2/2 [==============================] - 0s - loss: 2.4077e-04 - acc: 1.0000\n",
      "Epoch 55/100\n",
      "2/2 [==============================] - 0s - loss: 2.3788e-04 - acc: 1.0000\n",
      "Epoch 56/100\n",
      "2/2 [==============================] - 0s - loss: 2.3523e-04 - acc: 1.0000\n",
      "Epoch 57/100\n",
      "2/2 [==============================] - 0s - loss: 2.3302e-04 - acc: 1.0000\n",
      "Epoch 58/100\n",
      "2/2 [==============================] - 0s - loss: 2.3067e-04 - acc: 1.0000\n",
      "Epoch 59/100\n",
      "2/2 [==============================] - 0s - loss: 2.2879e-04 - acc: 1.0000\n",
      "Epoch 60/100\n",
      "2/2 [==============================] - 0s - loss: 2.2688e-04 - acc: 1.0000\n",
      "Epoch 61/100\n",
      "2/2 [==============================] - 0s - loss: 2.2542e-04 - acc: 1.0000\n",
      "Epoch 62/100\n",
      "2/2 [==============================] - 0s - loss: 2.2372e-04 - acc: 1.0000\n",
      "Epoch 63/100\n",
      "2/2 [==============================] - 0s - loss: 2.2229e-04 - acc: 1.0000\n",
      "Epoch 64/100\n",
      "2/2 [==============================] - 0s - loss: 2.2110e-04 - acc: 1.0000\n",
      "Epoch 65/100\n",
      "2/2 [==============================] - 0s - loss: 2.1997e-04 - acc: 1.0000\n",
      "Epoch 66/100\n",
      "2/2 [==============================] - 0s - loss: 2.1868e-04 - acc: 1.0000\n",
      "Epoch 67/100\n",
      "2/2 [==============================] - 0s - loss: 2.1734e-04 - acc: 1.0000\n",
      "Epoch 68/100\n",
      "2/2 [==============================] - 0s - loss: 2.1606e-04 - acc: 1.0000\n",
      "Epoch 69/100\n",
      "2/2 [==============================] - 0s - loss: 2.1520e-04 - acc: 1.0000\n",
      "Epoch 70/100\n",
      "2/2 [==============================] - 0s - loss: 2.1436e-04 - acc: 1.0000\n",
      "Epoch 71/100\n",
      "2/2 [==============================] - 0s - loss: 2.1353e-04 - acc: 1.0000\n",
      "Epoch 72/100\n",
      "2/2 [==============================] - 0s - loss: 2.1254e-04 - acc: 1.0000\n",
      "Epoch 73/100\n",
      "2/2 [==============================] - 0s - loss: 2.1186e-04 - acc: 1.0000\n",
      "Epoch 74/100\n",
      "2/2 [==============================] - 0s - loss: 2.1117e-04 - acc: 1.0000\n",
      "Epoch 75/100\n",
      "2/2 [==============================] - 0s - loss: 2.1049e-04 - acc: 1.0000\n",
      "Epoch 76/100\n",
      "2/2 [==============================] - 0s - loss: 2.0980e-04 - acc: 1.0000\n",
      "Epoch 77/100\n",
      "2/2 [==============================] - 0s - loss: 2.0891e-04 - acc: 1.0000\n",
      "Epoch 78/100\n",
      "2/2 [==============================] - 0s - loss: 2.0840e-04 - acc: 1.0000\n",
      "Epoch 79/100\n",
      "2/2 [==============================] - 0s - loss: 2.0786e-04 - acc: 1.0000\n",
      "Epoch 80/100\n",
      "2/2 [==============================] - 0s - loss: 2.0706e-04 - acc: 1.0000\n",
      "Epoch 81/100\n",
      "2/2 [==============================] - 0s - loss: 2.0652e-04 - acc: 1.0000\n",
      "Epoch 82/100\n",
      "2/2 [==============================] - 0s - loss: 2.0607e-04 - acc: 1.0000\n",
      "Epoch 83/100\n",
      "2/2 [==============================] - 0s - loss: 2.0557e-04 - acc: 1.0000\n",
      "Epoch 84/100\n",
      "2/2 [==============================] - 0s - loss: 2.0488e-04 - acc: 1.0000\n",
      "Epoch 85/100\n"
     ]
    },
    {
     "name": "stdout",
     "output_type": "stream",
     "text": [
      "2/2 [==============================] - 0s - loss: 2.0441e-04 - acc: 1.0000\n",
      "Epoch 86/100\n",
      "2/2 [==============================] - 0s - loss: 2.0405e-04 - acc: 1.0000\n",
      "Epoch 87/100\n",
      "2/2 [==============================] - 0s - loss: 2.0345e-04 - acc: 1.0000\n",
      "Epoch 88/100\n",
      "2/2 [==============================] - 0s - loss: 2.0291e-04 - acc: 1.0000\n",
      "Epoch 89/100\n",
      "2/2 [==============================] - 0s - loss: 2.0244e-04 - acc: 1.0000\n",
      "Epoch 90/100\n",
      "2/2 [==============================] - 0s - loss: 2.0178e-04 - acc: 1.0000\n",
      "Epoch 91/100\n",
      "2/2 [==============================] - 0s - loss: 2.0131e-04 - acc: 1.0000\n",
      "Epoch 92/100\n",
      "2/2 [==============================] - 0s - loss: 2.0083e-04 - acc: 1.0000\n",
      "Epoch 93/100\n",
      "2/2 [==============================] - 0s - loss: 2.0005e-04 - acc: 1.0000\n",
      "Epoch 94/100\n",
      "2/2 [==============================] - 0s - loss: 1.9987e-04 - acc: 1.0000\n",
      "Epoch 95/100\n",
      "2/2 [==============================] - 0s - loss: 1.9919e-04 - acc: 1.0000\n",
      "Epoch 96/100\n",
      "2/2 [==============================] - 0s - loss: 1.9886e-04 - acc: 1.0000\n",
      "Epoch 97/100\n",
      "2/2 [==============================] - 0s - loss: 1.9844e-04 - acc: 1.0000\n",
      "Epoch 98/100\n",
      "2/2 [==============================] - 0s - loss: 1.9782e-04 - acc: 1.0000\n",
      "Epoch 99/100\n",
      "2/2 [==============================] - 0s - loss: 1.9752e-04 - acc: 1.0000\n",
      "Epoch 100/100\n",
      "2/2 [==============================] - 0s - loss: 1.9707e-04 - acc: 1.0000\n"
     ]
    },
    {
     "data": {
      "text/plain": [
       "<keras.callbacks.History at 0x7fee4d533550>"
      ]
     },
     "execution_count": 32,
     "metadata": {},
     "output_type": "execute_result"
    }
   ],
   "source": [
    "model = Sequential()\n",
    "model.add(Dense(100, input_shape=(200,)))\n",
    "model.add(RepeatVector(1))\n",
    "model.add(Bidirectional(LSTM(100)))\n",
    "# model.add(Reshape((2, 1, 100)))\n",
    "model.add(Dense(y.shape[3], activation=\"softmax\"))\n",
    "model.compile(loss=\"categorical_crossentropy\", optimizer=\"adam\", metrics=[\"accuracy\"])\n",
    "model.summary()\n",
    "model.fit(x, y_start, epochs=100)"
   ]
  },
  {
   "cell_type": "code",
   "execution_count": null,
   "metadata": {
    "collapsed": true
   },
   "outputs": [],
   "source": [
    "model."
   ]
  },
  {
   "cell_type": "code",
   "execution_count": 23,
   "metadata": {},
   "outputs": [
    {
     "data": {
      "text/plain": [
       "array([[[[  5.38322965e-05,   6.13281518e-05,   9.56183339e-06,\n",
       "            3.51313465e-05,   4.28525091e-05,   2.60372835e-05,\n",
       "            3.78655277e-05,   1.57424874e-05,   2.34715644e-05,\n",
       "            2.62764534e-05,   8.81645428e-06,   5.55983497e-05,\n",
       "            1.87348942e-05,   9.97261524e-01,   9.58101100e-06,\n",
       "            3.08546150e-05,   2.73630067e-05,   7.40136893e-05,\n",
       "            3.00108568e-05,   1.40599850e-05,   1.14558743e-05,\n",
       "            4.55732079e-05,   1.93615579e-05,   9.55293672e-06,\n",
       "            3.71718343e-05,   1.18684529e-05,   2.69043030e-05,\n",
       "            1.44839287e-05,   1.31775487e-05,   2.32182083e-05,\n",
       "            2.59079861e-05,   1.38583300e-05,   3.03715369e-05,\n",
       "            4.00349927e-05,   1.49775988e-05,   1.72680211e-05,\n",
       "            7.83308678e-06,   3.65528467e-05,   2.09940954e-05,\n",
       "            1.27572048e-05,   4.50438965e-05,   2.90151529e-05,\n",
       "            1.47320961e-05,   2.06013701e-05,   1.43498783e-05,\n",
       "            2.67226460e-05,   3.21216576e-05,   1.33475996e-05,\n",
       "            8.21738558e-06,   6.63394312e-05,   1.21640396e-05,\n",
       "            4.73888213e-05,   2.60976922e-05,   9.11853658e-06,\n",
       "            7.25500604e-06,   1.25188599e-05,   2.86786744e-05,\n",
       "            3.93298978e-05,   2.27931578e-05,   3.18372950e-05,\n",
       "            2.66870666e-05,   2.24903652e-05,   3.30500588e-05,\n",
       "            3.81669524e-05,   4.40456752e-05,   1.25207944e-05,\n",
       "            7.87462614e-06,   2.76234459e-05,   1.74956149e-05,\n",
       "            1.37796005e-05,   1.43054021e-05,   8.77418097e-06,\n",
       "            1.64855610e-05,   3.40445295e-05,   2.35003699e-05,\n",
       "            6.35861761e-06,   1.63268796e-05,   1.93985961e-05,\n",
       "            3.03666147e-05,   4.16213079e-05,   5.75609192e-06,\n",
       "            2.21938826e-05,   3.24683897e-05,   3.52258903e-05,\n",
       "            2.62005851e-05,   1.47878236e-05,   1.87842197e-05,\n",
       "            9.99149506e-06,   1.08090408e-05,   1.98073067e-05,\n",
       "            5.70232041e-05,   7.53198537e-06,   9.56575095e-05,\n",
       "            6.18319100e-05,   1.63207296e-05,   2.27737764e-05,\n",
       "            4.02914302e-05,   1.92433963e-05,   1.26795894e-05,\n",
       "            1.63532459e-05,   2.71449153e-05,   5.25993637e-05,\n",
       "            5.22644987e-05,   1.30858398e-05,   1.70311050e-05,\n",
       "            3.39970939e-05]],\n",
       "\n",
       "        [[  2.54201459e-05,   4.55647059e-05,   8.12802136e-06,\n",
       "            1.90062456e-05,   2.81031826e-05,   1.89863185e-05,\n",
       "            2.27779547e-05,   1.23658783e-05,   2.33305072e-05,\n",
       "            1.62334927e-05,   6.90603429e-06,   4.74651861e-05,\n",
       "            1.38767700e-05,   9.97978270e-01,   7.96343375e-06,\n",
       "            2.46726868e-05,   1.84041710e-05,   3.62998544e-05,\n",
       "            2.10973449e-05,   1.21592411e-05,   1.29680202e-05,\n",
       "            4.05938990e-05,   1.28752399e-05,   8.30678619e-06,\n",
       "            2.13204421e-05,   8.43786347e-06,   2.48958549e-05,\n",
       "            8.73002864e-06,   1.01496744e-05,   1.30805165e-05,\n",
       "            1.23646632e-05,   7.39764846e-06,   1.43137995e-05,\n",
       "            3.92196816e-05,   1.14563918e-05,   1.16061810e-05,\n",
       "            6.78934475e-06,   2.28147601e-05,   1.76772901e-05,\n",
       "            1.02324111e-05,   3.07708215e-05,   2.54856841e-05,\n",
       "            1.01520855e-05,   1.67286380e-05,   1.01811329e-05,\n",
       "            1.86952966e-05,   2.23960469e-05,   9.46922864e-06,\n",
       "            7.20320486e-06,   5.34137944e-05,   8.08265486e-06,\n",
       "            2.91755441e-05,   2.00942104e-05,   9.50298272e-06,\n",
       "            7.35986077e-06,   7.46804471e-06,   1.97915670e-05,\n",
       "            2.33865321e-05,   1.47037754e-05,   3.32821364e-05,\n",
       "            1.85346198e-05,   1.52265739e-05,   2.45603042e-05,\n",
       "            2.28394692e-05,   2.86735449e-05,   1.01416044e-05,\n",
       "            4.63945571e-06,   2.42357473e-05,   1.40374668e-05,\n",
       "            8.70816893e-06,   1.16479287e-05,   7.77736568e-06,\n",
       "            1.11063400e-05,   2.97927436e-05,   1.66157824e-05,\n",
       "            4.61466971e-06,   1.31889174e-05,   1.23380551e-05,\n",
       "            1.86300294e-05,   3.23206041e-05,   4.47188040e-06,\n",
       "            1.65850706e-05,   3.05016147e-05,   3.71315982e-05,\n",
       "            2.07226185e-05,   1.04330329e-05,   1.12012449e-05,\n",
       "            9.38218000e-06,   5.86491706e-06,   1.78659393e-05,\n",
       "            4.04318962e-05,   4.73106502e-06,   9.10821982e-05,\n",
       "            5.35119398e-05,   9.40471909e-06,   1.56938077e-05,\n",
       "            2.73788082e-05,   2.05218039e-05,   8.42830923e-06,\n",
       "            1.26658888e-05,   2.51441979e-05,   3.94943490e-05,\n",
       "            3.81176760e-05,   7.96238510e-06,   1.12732168e-05,\n",
       "            2.07923804e-05]]]], dtype=float32)"
      ]
     },
     "execution_count": 23,
     "metadata": {},
     "output_type": "execute_result"
    }
   ],
   "source": [
    "model.predict(np.array([x[1]]))"
   ]
  },
  {
   "cell_type": "code",
   "execution_count": 35,
   "metadata": {},
   "outputs": [
    {
     "ename": "TypeError",
     "evalue": "__init__() missing 1 required positional argument: 'layer'",
     "output_type": "error",
     "traceback": [
      "\u001b[0;31m---------------------------------------------------------------------------\u001b[0m",
      "\u001b[0;31mTypeError\u001b[0m                                 Traceback (most recent call last)",
      "\u001b[0;32m<ipython-input-35-80df457861a7>\u001b[0m in \u001b[0;36m<module>\u001b[0;34m()\u001b[0m\n\u001b[0;32m----> 1\u001b[0;31m \u001b[0mBidirectional\u001b[0m\u001b[0;34m(\u001b[0m\u001b[0;34m)\u001b[0m\u001b[0;34m\u001b[0m\u001b[0m\n\u001b[0m",
      "\u001b[0;31mTypeError\u001b[0m: __init__() missing 1 required positional argument: 'layer'"
     ]
    }
   ],
   "source": [
    "Bidirectional()"
   ]
  },
  {
   "cell_type": "code",
   "execution_count": 82,
   "metadata": {},
   "outputs": [
    {
     "data": {
      "text/plain": [
       "(106000,)"
      ]
     },
     "execution_count": 82,
     "metadata": {},
     "output_type": "execute_result"
    }
   ],
   "source": [
    "x.shape"
   ]
  },
  {
   "cell_type": "code",
   "execution_count": 83,
   "metadata": {},
   "outputs": [],
   "source": [
    "x = np.random.rand(100*106*10)"
   ]
  },
  {
   "cell_type": "code",
   "execution_count": 94,
   "metadata": {},
   "outputs": [],
   "source": [
    "x = x.reshape(106, 1, 100, 10, 1)"
   ]
  },
  {
   "cell_type": "code",
   "execution_count": 95,
   "metadata": {
    "collapsed": true
   },
   "outputs": [],
   "source": [
    "y = np.arange(106)"
   ]
  },
  {
   "cell_type": "code",
   "execution_count": 96,
   "metadata": {},
   "outputs": [],
   "source": [
    "y = y.reshape(106, 1)"
   ]
  },
  {
   "cell_type": "code",
   "execution_count": 97,
   "metadata": {},
   "outputs": [],
   "source": [
    "y = to_categorical(y)[:10]"
   ]
  },
  {
   "cell_type": "code",
   "execution_count": 101,
   "metadata": {},
   "outputs": [
    {
     "ename": "ValueError",
     "evalue": "Error when checking input: expected conv_lst_m2d_16_input to have shape (None, None, 106, 100, 1) but got array with shape (106, 1, 100, 10, 1)",
     "output_type": "error",
     "traceback": [
      "\u001b[0;31m---------------------------------------------------------------------------\u001b[0m",
      "\u001b[0;31mValueError\u001b[0m                                Traceback (most recent call last)",
      "\u001b[0;32m<ipython-input-101-6606fe1c4465>\u001b[0m in \u001b[0;36m<module>\u001b[0;34m()\u001b[0m\n\u001b[1;32m      3\u001b[0m \u001b[0mseq\u001b[0m\u001b[0;34m.\u001b[0m\u001b[0madd\u001b[0m\u001b[0;34m(\u001b[0m\u001b[0mDense\u001b[0m\u001b[0;34m(\u001b[0m\u001b[0my_start\u001b[0m\u001b[0;34m.\u001b[0m\u001b[0mshape\u001b[0m\u001b[0;34m[\u001b[0m\u001b[0;36m1\u001b[0m\u001b[0;34m]\u001b[0m\u001b[0;34m,\u001b[0m \u001b[0mactivation\u001b[0m\u001b[0;34m=\u001b[0m\u001b[0;34m\"softmax\"\u001b[0m\u001b[0;34m)\u001b[0m\u001b[0;34m)\u001b[0m\u001b[0;34m\u001b[0m\u001b[0m\n\u001b[1;32m      4\u001b[0m \u001b[0mseq\u001b[0m\u001b[0;34m.\u001b[0m\u001b[0mcompile\u001b[0m\u001b[0;34m(\u001b[0m\u001b[0mloss\u001b[0m\u001b[0;34m=\u001b[0m\u001b[0;34m'binary_crossentropy'\u001b[0m\u001b[0;34m,\u001b[0m \u001b[0moptimizer\u001b[0m\u001b[0;34m=\u001b[0m\u001b[0;34m'adadelta'\u001b[0m\u001b[0;34m)\u001b[0m\u001b[0;34m\u001b[0m\u001b[0m\n\u001b[0;32m----> 5\u001b[0;31m \u001b[0mseq\u001b[0m\u001b[0;34m.\u001b[0m\u001b[0mfit\u001b[0m\u001b[0;34m(\u001b[0m\u001b[0mx\u001b[0m\u001b[0;34m,\u001b[0m \u001b[0my\u001b[0m\u001b[0;34m)\u001b[0m\u001b[0;34m\u001b[0m\u001b[0m\n\u001b[0m",
      "\u001b[0;32m/home/nishant/venvs/autofill/lib/python3.5/site-packages/keras/models.py\u001b[0m in \u001b[0;36mfit\u001b[0;34m(self, x, y, batch_size, epochs, verbose, callbacks, validation_split, validation_data, shuffle, class_weight, sample_weight, initial_epoch, **kwargs)\u001b[0m\n\u001b[1;32m    854\u001b[0m                               \u001b[0mclass_weight\u001b[0m\u001b[0;34m=\u001b[0m\u001b[0mclass_weight\u001b[0m\u001b[0;34m,\u001b[0m\u001b[0;34m\u001b[0m\u001b[0m\n\u001b[1;32m    855\u001b[0m                               \u001b[0msample_weight\u001b[0m\u001b[0;34m=\u001b[0m\u001b[0msample_weight\u001b[0m\u001b[0;34m,\u001b[0m\u001b[0;34m\u001b[0m\u001b[0m\n\u001b[0;32m--> 856\u001b[0;31m                               initial_epoch=initial_epoch)\n\u001b[0m\u001b[1;32m    857\u001b[0m \u001b[0;34m\u001b[0m\u001b[0m\n\u001b[1;32m    858\u001b[0m     def evaluate(self, x, y, batch_size=32, verbose=1,\n",
      "\u001b[0;32m/home/nishant/venvs/autofill/lib/python3.5/site-packages/keras/engine/training.py\u001b[0m in \u001b[0;36mfit\u001b[0;34m(self, x, y, batch_size, epochs, verbose, callbacks, validation_split, validation_data, shuffle, class_weight, sample_weight, initial_epoch, **kwargs)\u001b[0m\n\u001b[1;32m   1427\u001b[0m             \u001b[0mclass_weight\u001b[0m\u001b[0;34m=\u001b[0m\u001b[0mclass_weight\u001b[0m\u001b[0;34m,\u001b[0m\u001b[0;34m\u001b[0m\u001b[0m\n\u001b[1;32m   1428\u001b[0m             \u001b[0mcheck_batch_axis\u001b[0m\u001b[0;34m=\u001b[0m\u001b[0;32mFalse\u001b[0m\u001b[0;34m,\u001b[0m\u001b[0;34m\u001b[0m\u001b[0m\n\u001b[0;32m-> 1429\u001b[0;31m             batch_size=batch_size)\n\u001b[0m\u001b[1;32m   1430\u001b[0m         \u001b[0;31m# Prepare validation data.\u001b[0m\u001b[0;34m\u001b[0m\u001b[0;34m\u001b[0m\u001b[0m\n\u001b[1;32m   1431\u001b[0m         \u001b[0;32mif\u001b[0m \u001b[0mvalidation_data\u001b[0m\u001b[0;34m:\u001b[0m\u001b[0;34m\u001b[0m\u001b[0m\n",
      "\u001b[0;32m/home/nishant/venvs/autofill/lib/python3.5/site-packages/keras/engine/training.py\u001b[0m in \u001b[0;36m_standardize_user_data\u001b[0;34m(self, x, y, sample_weight, class_weight, check_batch_axis, batch_size)\u001b[0m\n\u001b[1;32m   1303\u001b[0m                                     \u001b[0mself\u001b[0m\u001b[0;34m.\u001b[0m\u001b[0m_feed_input_shapes\u001b[0m\u001b[0;34m,\u001b[0m\u001b[0;34m\u001b[0m\u001b[0m\n\u001b[1;32m   1304\u001b[0m                                     \u001b[0mcheck_batch_axis\u001b[0m\u001b[0;34m=\u001b[0m\u001b[0;32mFalse\u001b[0m\u001b[0;34m,\u001b[0m\u001b[0;34m\u001b[0m\u001b[0m\n\u001b[0;32m-> 1305\u001b[0;31m                                     exception_prefix='input')\n\u001b[0m\u001b[1;32m   1306\u001b[0m         y = _standardize_input_data(y, self._feed_output_names,\n\u001b[1;32m   1307\u001b[0m                                     \u001b[0moutput_shapes\u001b[0m\u001b[0;34m,\u001b[0m\u001b[0;34m\u001b[0m\u001b[0m\n",
      "\u001b[0;32m/home/nishant/venvs/autofill/lib/python3.5/site-packages/keras/engine/training.py\u001b[0m in \u001b[0;36m_standardize_input_data\u001b[0;34m(data, names, shapes, check_batch_axis, exception_prefix)\u001b[0m\n\u001b[1;32m    137\u001b[0m                             \u001b[0;34m' to have shape '\u001b[0m \u001b[0;34m+\u001b[0m \u001b[0mstr\u001b[0m\u001b[0;34m(\u001b[0m\u001b[0mshapes\u001b[0m\u001b[0;34m[\u001b[0m\u001b[0mi\u001b[0m\u001b[0;34m]\u001b[0m\u001b[0;34m)\u001b[0m \u001b[0;34m+\u001b[0m\u001b[0;34m\u001b[0m\u001b[0m\n\u001b[1;32m    138\u001b[0m                             \u001b[0;34m' but got array with shape '\u001b[0m \u001b[0;34m+\u001b[0m\u001b[0;34m\u001b[0m\u001b[0m\n\u001b[0;32m--> 139\u001b[0;31m                             str(array.shape))\n\u001b[0m\u001b[1;32m    140\u001b[0m     \u001b[0;32mreturn\u001b[0m \u001b[0marrays\u001b[0m\u001b[0;34m\u001b[0m\u001b[0m\n\u001b[1;32m    141\u001b[0m \u001b[0;34m\u001b[0m\u001b[0m\n",
      "\u001b[0;31mValueError\u001b[0m: Error when checking input: expected conv_lst_m2d_16_input to have shape (None, None, 106, 100, 1) but got array with shape (106, 1, 100, 10, 1)"
     ]
    }
   ],
   "source": [
    "seq = Sequential()\n",
    "seq.add(ConvLSTM2D(filters=40, kernel_size=(2, 2), input_shape=(None, 106, 100, 1)))\n",
    "seq.add(Dense(y_start.shape[1], activation=\"softmax\"))\n",
    "seq.compile(loss='binary_crossentropy', optimizer='adadelta')\n",
    "seq.fit(x, y)"
   ]
  },
  {
   "cell_type": "code",
   "execution_count": null,
   "metadata": {
    "collapsed": true
   },
   "outputs": [],
   "source": []
  }
 ],
 "metadata": {
  "kernelspec": {
   "display_name": "Python 3",
   "language": "python",
   "name": "python3"
  },
  "language_info": {
   "codemirror_mode": {
    "name": "ipython",
    "version": 3
   },
   "file_extension": ".py",
   "mimetype": "text/x-python",
   "name": "python",
   "nbconvert_exporter": "python",
   "pygments_lexer": "ipython3",
   "version": "3.5.2"
  }
 },
 "nbformat": 4,
 "nbformat_minor": 2
}
